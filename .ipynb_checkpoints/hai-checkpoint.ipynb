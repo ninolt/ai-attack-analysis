{
 "cells": [
  {
   "cell_type": "markdown",
   "metadata": {},
   "source": [
    "# Predicting cyberattacks - HAI 20.07 dataset\n",
    "\n",
    "This Jupyter notebook explores various approaches to implementing machine learning algorithms for detecting attacks in the HAI 20.07 dataset.\n",
    "\n",
    "Technical details : [here](https://github.com/icsdataset/hai/blob/master/hai_dataset_technical_details.pdf)"
   ]
  },
  {
   "cell_type": "markdown",
   "metadata": {},
   "source": [
    "## Importing and normalizing the datasets"
   ]
  },
  {
   "cell_type": "code",
   "execution_count": null,
   "metadata": {
    "scrolled": true
   },
   "outputs": [],
   "source": [
    "import numpy as np\n",
    "import pandas as pd\n",
    "import matplotlib.pyplot as plt\n",
    "import datetime\n",
    "import collections\n",
    "\n",
    "import tensorflow as tf\n",
    "from tensorflow.keras import layers, losses\n",
    "from tensorflow.keras.models import Model\n",
    "from sklearn.model_selection import train_test_split"
   ]
  },
  {
   "cell_type": "markdown",
   "metadata": {},
   "source": [
    "Here, we use a dedicated validation dataset derived from the training dataset (and not from the testing dataset) because the 'normal' data in the testing dataset may be affected by previous attacks on the system, potentially resulting in a very inaccurate validation loss score."
   ]
  },
  {
   "cell_type": "code",
   "execution_count": 3,
   "metadata": {},
   "outputs": [],
   "source": [
    "train = []\n",
    "validation = []\n",
    "test = []\n",
    "labels = []\n",
    "\n",
    "dataset_ids = [1, 2]\n",
    "\n",
    "for dataset_id in dataset_ids:\n",
    "    train_data, validation_data = train_test_split(\n",
    "        pd.read_csv(f\"https://raw.githubusercontent.com/icsdataset/hai/master/hai-20.07/train{dataset_id}.csv.gz\", sep=\";\", index_col=\"time\", usecols=list(range(60))).values,\n",
    "        # test size => validation size in this case\n",
    "        test_size=0.1, random_state=42)\n",
    "\n",
    "    train.append(train_data)\n",
    "    validation.append(validation_data)\n",
    "    \n",
    "    test_data = pd.read_csv(f\"https://raw.githubusercontent.com/icsdataset/hai/master/hai-20.07/test{dataset_id}.csv.gz\", sep=\";\", index_col=\"time\").values\n",
    "\n",
    "    test.append(test_data[:, 0:-4])\n",
    "    labels.append(test_data[:, -4:])"
   ]
  },
  {
   "cell_type": "markdown",
   "metadata": {},
   "source": [
    "Normalize the data on [0, 1]"
   ]
  },
  {
   "cell_type": "code",
   "execution_count": 16,
   "metadata": {},
   "outputs": [],
   "source": [
    "for i in range(len(dataset_ids)):\n",
    "    reduced_min = np.min(train[i], axis=0)\n",
    "    reduced_max = np.max(train[i], axis=0)\n",
    "\n",
    "    asset_range = reduced_max - reduced_min\n",
    "\n",
    "    # Normalizing while making sure there is no divison by zero\n",
    "    train[i] = np.divide((train[i] - reduced_min), asset_range, where=asset_range != 0)\n",
    "    test[i] = np.divide((test[i] - reduced_min), asset_range, where=asset_range != 0)\n",
    "    validation[i] = np.divide((validation[i] - reduced_min), asset_range, where=asset_range != 0)\n",
    "    \n",
    "    train[i] = tf.cast(train[i], tf.float32)\n",
    "    test[i] = tf.cast(test[i], tf.float32)\n",
    "    validation[i] = tf.cast(validation[i], tf.float32)"
   ]
  },
  {
   "cell_type": "markdown",
   "metadata": {},
   "source": [
    "## Build an anomaly detection model\n",
    "\n",
    "The goal here is to measure, at a given time and for a given sensor, how abnormal its value is compared to its normal behavior.\n",
    "\n",
    "To achieve this, we will use an autoencoder model. The concept is straightforward: we train the model on normal training data, and the model attempts to reproduce this normal data. The hypothesis is that the model will perform poorly when presented with abnormal data, such as during an attack on the system.\n",
    "\n",
    "In this case, we will build multiple models to gain a better understanding of the results."
   ]
  },
  {
   "cell_type": "code",
   "execution_count": 17,
   "metadata": {},
   "outputs": [
    {
     "name": "stdout",
     "output_type": "stream",
     "text": [
      "Epoch 1/10\n",
      "\u001b[1m545/545\u001b[0m \u001b[32m━━━━━━━━━━━━━━━━━━━━\u001b[0m\u001b[37m\u001b[0m \u001b[1m4s\u001b[0m 4ms/step - loss: 0.1460 - val_loss: 0.0534\n",
      "Epoch 2/10\n",
      "\u001b[1m545/545\u001b[0m \u001b[32m━━━━━━━━━━━━━━━━━━━━\u001b[0m\u001b[37m\u001b[0m \u001b[1m2s\u001b[0m 4ms/step - loss: 0.0487 - val_loss: 0.0419\n",
      "Epoch 3/10\n",
      "\u001b[1m545/545\u001b[0m \u001b[32m━━━━━━━━━━━━━━━━━━━━\u001b[0m\u001b[37m\u001b[0m \u001b[1m2s\u001b[0m 4ms/step - loss: 0.0400 - val_loss: 0.0344\n",
      "Epoch 4/10\n",
      "\u001b[1m545/545\u001b[0m \u001b[32m━━━━━━━━━━━━━━━━━━━━\u001b[0m\u001b[37m\u001b[0m \u001b[1m2s\u001b[0m 4ms/step - loss: 0.0332 - val_loss: 0.0305\n",
      "Epoch 5/10\n",
      "\u001b[1m545/545\u001b[0m \u001b[32m━━━━━━━━━━━━━━━━━━━━\u001b[0m\u001b[37m\u001b[0m \u001b[1m2s\u001b[0m 4ms/step - loss: 0.0298 - val_loss: 0.0288\n",
      "Epoch 6/10\n",
      "\u001b[1m545/545\u001b[0m \u001b[32m━━━━━━━━━━━━━━━━━━━━\u001b[0m\u001b[37m\u001b[0m \u001b[1m3s\u001b[0m 5ms/step - loss: 0.0285 - val_loss: 0.0281\n",
      "Epoch 7/10\n",
      "\u001b[1m545/545\u001b[0m \u001b[32m━━━━━━━━━━━━━━━━━━━━\u001b[0m\u001b[37m\u001b[0m \u001b[1m3s\u001b[0m 5ms/step - loss: 0.0275 - val_loss: 0.0270\n",
      "Epoch 8/10\n",
      "\u001b[1m545/545\u001b[0m \u001b[32m━━━━━━━━━━━━━━━━━━━━\u001b[0m\u001b[37m\u001b[0m \u001b[1m2s\u001b[0m 4ms/step - loss: 0.0267 - val_loss: 0.0262\n",
      "Epoch 9/10\n",
      "\u001b[1m545/545\u001b[0m \u001b[32m━━━━━━━━━━━━━━━━━━━━\u001b[0m\u001b[37m\u001b[0m \u001b[1m2s\u001b[0m 4ms/step - loss: 0.0261 - val_loss: 0.0257\n",
      "Epoch 10/10\n",
      "\u001b[1m545/545\u001b[0m \u001b[32m━━━━━━━━━━━━━━━━━━━━\u001b[0m\u001b[37m\u001b[0m \u001b[1m3s\u001b[0m 5ms/step - loss: 0.0255 - val_loss: 0.0251\n",
      "Epoch 1/10\n",
      "\u001b[1m424/424\u001b[0m \u001b[32m━━━━━━━━━━━━━━━━━━━━\u001b[0m\u001b[37m\u001b[0m \u001b[1m3s\u001b[0m 4ms/step - loss: 0.1590 - val_loss: 0.0509\n",
      "Epoch 2/10\n",
      "\u001b[1m424/424\u001b[0m \u001b[32m━━━━━━━━━━━━━━━━━━━━\u001b[0m\u001b[37m\u001b[0m \u001b[1m2s\u001b[0m 4ms/step - loss: 0.0443 - val_loss: 0.0362\n",
      "Epoch 3/10\n",
      "\u001b[1m424/424\u001b[0m \u001b[32m━━━━━━━━━━━━━━━━━━━━\u001b[0m\u001b[37m\u001b[0m \u001b[1m2s\u001b[0m 4ms/step - loss: 0.0356 - val_loss: 0.0342\n",
      "Epoch 4/10\n",
      "\u001b[1m424/424\u001b[0m \u001b[32m━━━━━━━━━━━━━━━━━━━━\u001b[0m\u001b[37m\u001b[0m \u001b[1m2s\u001b[0m 4ms/step - loss: 0.0338 - val_loss: 0.0323\n",
      "Epoch 5/10\n",
      "\u001b[1m424/424\u001b[0m \u001b[32m━━━━━━━━━━━━━━━━━━━━\u001b[0m\u001b[37m\u001b[0m \u001b[1m2s\u001b[0m 4ms/step - loss: 0.0319 - val_loss: 0.0313\n",
      "Epoch 6/10\n",
      "\u001b[1m424/424\u001b[0m \u001b[32m━━━━━━━━━━━━━━━━━━━━\u001b[0m\u001b[37m\u001b[0m \u001b[1m2s\u001b[0m 4ms/step - loss: 0.0311 - val_loss: 0.0309\n",
      "Epoch 7/10\n",
      "\u001b[1m424/424\u001b[0m \u001b[32m━━━━━━━━━━━━━━━━━━━━\u001b[0m\u001b[37m\u001b[0m \u001b[1m2s\u001b[0m 4ms/step - loss: 0.0308 - val_loss: 0.0306\n",
      "Epoch 8/10\n",
      "\u001b[1m424/424\u001b[0m \u001b[32m━━━━━━━━━━━━━━━━━━━━\u001b[0m\u001b[37m\u001b[0m \u001b[1m2s\u001b[0m 4ms/step - loss: 0.0304 - val_loss: 0.0302\n",
      "Epoch 9/10\n",
      "\u001b[1m424/424\u001b[0m \u001b[32m━━━━━━━━━━━━━━━━━━━━\u001b[0m\u001b[37m\u001b[0m \u001b[1m2s\u001b[0m 4ms/step - loss: 0.0301 - val_loss: 0.0294\n",
      "Epoch 10/10\n",
      "\u001b[1m424/424\u001b[0m \u001b[32m━━━━━━━━━━━━━━━━━━━━\u001b[0m\u001b[37m\u001b[0m \u001b[1m2s\u001b[0m 4ms/step - loss: 0.0289 - val_loss: 0.0269\n",
      "Epoch 1/10\n",
      "\u001b[1m545/545\u001b[0m \u001b[32m━━━━━━━━━━━━━━━━━━━━\u001b[0m\u001b[37m\u001b[0m \u001b[1m3s\u001b[0m 4ms/step - loss: 0.1485 - val_loss: 0.0535\n",
      "Epoch 2/10\n",
      "\u001b[1m545/545\u001b[0m \u001b[32m━━━━━━━━━━━━━━━━━━━━\u001b[0m\u001b[37m\u001b[0m \u001b[1m2s\u001b[0m 4ms/step - loss: 0.0492 - val_loss: 0.0425\n",
      "Epoch 3/10\n",
      "\u001b[1m545/545\u001b[0m \u001b[32m━━━━━━━━━━━━━━━━━━━━\u001b[0m\u001b[37m\u001b[0m \u001b[1m3s\u001b[0m 5ms/step - loss: 0.0405 - val_loss: 0.0368\n",
      "Epoch 4/10\n",
      "\u001b[1m545/545\u001b[0m \u001b[32m━━━━━━━━━━━━━━━━━━━━\u001b[0m\u001b[37m\u001b[0m \u001b[1m3s\u001b[0m 6ms/step - loss: 0.0351 - val_loss: 0.0320\n",
      "Epoch 5/10\n",
      "\u001b[1m545/545\u001b[0m \u001b[32m━━━━━━━━━━━━━━━━━━━━\u001b[0m\u001b[37m\u001b[0m \u001b[1m3s\u001b[0m 6ms/step - loss: 0.0312 - val_loss: 0.0295\n",
      "Epoch 6/10\n",
      "\u001b[1m545/545\u001b[0m \u001b[32m━━━━━━━━━━━━━━━━━━━━\u001b[0m\u001b[37m\u001b[0m \u001b[1m4s\u001b[0m 6ms/step - loss: 0.0288 - val_loss: 0.0274\n",
      "Epoch 7/10\n",
      "\u001b[1m545/545\u001b[0m \u001b[32m━━━━━━━━━━━━━━━━━━━━\u001b[0m\u001b[37m\u001b[0m \u001b[1m2s\u001b[0m 4ms/step - loss: 0.0265 - val_loss: 0.0246\n",
      "Epoch 8/10\n",
      "\u001b[1m545/545\u001b[0m \u001b[32m━━━━━━━━━━━━━━━━━━━━\u001b[0m\u001b[37m\u001b[0m \u001b[1m2s\u001b[0m 4ms/step - loss: 0.0240 - val_loss: 0.0232\n",
      "Epoch 9/10\n",
      "\u001b[1m545/545\u001b[0m \u001b[32m━━━━━━━━━━━━━━━━━━━━\u001b[0m\u001b[37m\u001b[0m \u001b[1m2s\u001b[0m 4ms/step - loss: 0.0229 - val_loss: 0.0225\n",
      "Epoch 10/10\n",
      "\u001b[1m545/545\u001b[0m \u001b[32m━━━━━━━━━━━━━━━━━━━━\u001b[0m\u001b[37m\u001b[0m \u001b[1m2s\u001b[0m 4ms/step - loss: 0.0225 - val_loss: 0.0223\n",
      "Epoch 1/10\n",
      "\u001b[1m424/424\u001b[0m \u001b[32m━━━━━━━━━━━━━━━━━━━━\u001b[0m\u001b[37m\u001b[0m \u001b[1m3s\u001b[0m 4ms/step - loss: 0.1579 - val_loss: 0.0479\n",
      "Epoch 2/10\n",
      "\u001b[1m424/424\u001b[0m \u001b[32m━━━━━━━━━━━━━━━━━━━━\u001b[0m\u001b[37m\u001b[0m \u001b[1m2s\u001b[0m 4ms/step - loss: 0.0449 - val_loss: 0.0388\n",
      "Epoch 3/10\n",
      "\u001b[1m424/424\u001b[0m \u001b[32m━━━━━━━━━━━━━━━━━━━━\u001b[0m\u001b[37m\u001b[0m \u001b[1m2s\u001b[0m 4ms/step - loss: 0.0376 - val_loss: 0.0351\n",
      "Epoch 4/10\n",
      "\u001b[1m424/424\u001b[0m \u001b[32m━━━━━━━━━━━━━━━━━━━━\u001b[0m\u001b[37m\u001b[0m \u001b[1m3s\u001b[0m 4ms/step - loss: 0.0349 - val_loss: 0.0343\n",
      "Epoch 5/10\n",
      "\u001b[1m424/424\u001b[0m \u001b[32m━━━━━━━━━━━━━━━━━━━━\u001b[0m\u001b[37m\u001b[0m \u001b[1m2s\u001b[0m 4ms/step - loss: 0.0340 - val_loss: 0.0330\n",
      "Epoch 6/10\n",
      "\u001b[1m424/424\u001b[0m \u001b[32m━━━━━━━━━━━━━━━━━━━━\u001b[0m\u001b[37m\u001b[0m \u001b[1m2s\u001b[0m 4ms/step - loss: 0.0323 - val_loss: 0.0296\n",
      "Epoch 7/10\n",
      "\u001b[1m424/424\u001b[0m \u001b[32m━━━━━━━━━━━━━━━━━━━━\u001b[0m\u001b[37m\u001b[0m \u001b[1m2s\u001b[0m 4ms/step - loss: 0.0284 - val_loss: 0.0266\n",
      "Epoch 8/10\n",
      "\u001b[1m424/424\u001b[0m \u001b[32m━━━━━━━━━━━━━━━━━━━━\u001b[0m\u001b[37m\u001b[0m \u001b[1m2s\u001b[0m 4ms/step - loss: 0.0265 - val_loss: 0.0262\n",
      "Epoch 9/10\n",
      "\u001b[1m424/424\u001b[0m \u001b[32m━━━━━━━━━━━━━━━━━━━━\u001b[0m\u001b[37m\u001b[0m \u001b[1m2s\u001b[0m 4ms/step - loss: 0.0261 - val_loss: 0.0260\n",
      "Epoch 10/10\n",
      "\u001b[1m424/424\u001b[0m \u001b[32m━━━━━━━━━━━━━━━━━━━━\u001b[0m\u001b[37m\u001b[0m \u001b[1m2s\u001b[0m 4ms/step - loss: 0.0257 - val_loss: 0.0255\n",
      "Epoch 1/10\n",
      "\u001b[1m545/545\u001b[0m \u001b[32m━━━━━━━━━━━━━━━━━━━━\u001b[0m\u001b[37m\u001b[0m \u001b[1m3s\u001b[0m 4ms/step - loss: 0.1375 - val_loss: 0.0497\n",
      "Epoch 2/10\n",
      "\u001b[1m545/545\u001b[0m \u001b[32m━━━━━━━━━━━━━━━━━━━━\u001b[0m\u001b[37m\u001b[0m \u001b[1m3s\u001b[0m 5ms/step - loss: 0.0461 - val_loss: 0.0402\n",
      "Epoch 3/10\n",
      "\u001b[1m545/545\u001b[0m \u001b[32m━━━━━━━━━━━━━━━━━━━━\u001b[0m\u001b[37m\u001b[0m \u001b[1m2s\u001b[0m 4ms/step - loss: 0.0381 - val_loss: 0.0347\n",
      "Epoch 4/10\n",
      "\u001b[1m545/545\u001b[0m \u001b[32m━━━━━━━━━━━━━━━━━━━━\u001b[0m\u001b[37m\u001b[0m \u001b[1m3s\u001b[0m 5ms/step - loss: 0.0340 - val_loss: 0.0318\n",
      "Epoch 5/10\n",
      "\u001b[1m545/545\u001b[0m \u001b[32m━━━━━━━━━━━━━━━━━━━━\u001b[0m\u001b[37m\u001b[0m \u001b[1m3s\u001b[0m 5ms/step - loss: 0.0309 - val_loss: 0.0294\n",
      "Epoch 6/10\n",
      "\u001b[1m545/545\u001b[0m \u001b[32m━━━━━━━━━━━━━━━━━━━━\u001b[0m\u001b[37m\u001b[0m \u001b[1m3s\u001b[0m 5ms/step - loss: 0.0287 - val_loss: 0.0273\n",
      "Epoch 7/10\n",
      "\u001b[1m545/545\u001b[0m \u001b[32m━━━━━━━━━━━━━━━━━━━━\u001b[0m\u001b[37m\u001b[0m \u001b[1m2s\u001b[0m 4ms/step - loss: 0.0268 - val_loss: 0.0260\n",
      "Epoch 8/10\n",
      "\u001b[1m545/545\u001b[0m \u001b[32m━━━━━━━━━━━━━━━━━━━━\u001b[0m\u001b[37m\u001b[0m \u001b[1m2s\u001b[0m 4ms/step - loss: 0.0256 - val_loss: 0.0251\n",
      "Epoch 9/10\n",
      "\u001b[1m545/545\u001b[0m \u001b[32m━━━━━━━━━━━━━━━━━━━━\u001b[0m\u001b[37m\u001b[0m \u001b[1m2s\u001b[0m 4ms/step - loss: 0.0248 - val_loss: 0.0241\n",
      "Epoch 10/10\n",
      "\u001b[1m545/545\u001b[0m \u001b[32m━━━━━━━━━━━━━━━━━━━━\u001b[0m\u001b[37m\u001b[0m \u001b[1m2s\u001b[0m 4ms/step - loss: 0.0237 - val_loss: 0.0229\n",
      "Epoch 1/10\n",
      "\u001b[1m424/424\u001b[0m \u001b[32m━━━━━━━━━━━━━━━━━━━━\u001b[0m\u001b[37m\u001b[0m \u001b[1m3s\u001b[0m 4ms/step - loss: 0.1593 - val_loss: 0.0567\n",
      "Epoch 2/10\n",
      "\u001b[1m424/424\u001b[0m \u001b[32m━━━━━━━━━━━━━━━━━━━━\u001b[0m\u001b[37m\u001b[0m \u001b[1m3s\u001b[0m 4ms/step - loss: 0.0472 - val_loss: 0.0382\n",
      "Epoch 3/10\n",
      "\u001b[1m424/424\u001b[0m \u001b[32m━━━━━━━━━━━━━━━━━━━━\u001b[0m\u001b[37m\u001b[0m \u001b[1m2s\u001b[0m 4ms/step - loss: 0.0372 - val_loss: 0.0347\n",
      "Epoch 4/10\n",
      "\u001b[1m424/424\u001b[0m \u001b[32m━━━━━━━━━━━━━━━━━━━━\u001b[0m\u001b[37m\u001b[0m \u001b[1m2s\u001b[0m 4ms/step - loss: 0.0341 - val_loss: 0.0319\n",
      "Epoch 5/10\n",
      "\u001b[1m424/424\u001b[0m \u001b[32m━━━━━━━━━━━━━━━━━━━━\u001b[0m\u001b[37m\u001b[0m \u001b[1m2s\u001b[0m 4ms/step - loss: 0.0310 - val_loss: 0.0292\n",
      "Epoch 6/10\n",
      "\u001b[1m424/424\u001b[0m \u001b[32m━━━━━━━━━━━━━━━━━━━━\u001b[0m\u001b[37m\u001b[0m \u001b[1m2s\u001b[0m 4ms/step - loss: 0.0287 - val_loss: 0.0272\n",
      "Epoch 7/10\n",
      "\u001b[1m424/424\u001b[0m \u001b[32m━━━━━━━━━━━━━━━━━━━━\u001b[0m\u001b[37m\u001b[0m \u001b[1m2s\u001b[0m 4ms/step - loss: 0.0270 - val_loss: 0.0266\n",
      "Epoch 8/10\n",
      "\u001b[1m424/424\u001b[0m \u001b[32m━━━━━━━━━━━━━━━━━━━━\u001b[0m\u001b[37m\u001b[0m \u001b[1m2s\u001b[0m 5ms/step - loss: 0.0266 - val_loss: 0.0264\n",
      "Epoch 9/10\n",
      "\u001b[1m424/424\u001b[0m \u001b[32m━━━━━━━━━━━━━━━━━━━━\u001b[0m\u001b[37m\u001b[0m \u001b[1m2s\u001b[0m 4ms/step - loss: 0.0263 - val_loss: 0.0263\n",
      "Epoch 10/10\n",
      "\u001b[1m424/424\u001b[0m \u001b[32m━━━━━━━━━━━━━━━━━━━━\u001b[0m\u001b[37m\u001b[0m \u001b[1m2s\u001b[0m 4ms/step - loss: 0.0260 - val_loss: 0.0258\n",
      "Epoch 1/10\n",
      "\u001b[1m545/545\u001b[0m \u001b[32m━━━━━━━━━━━━━━━━━━━━\u001b[0m\u001b[37m\u001b[0m \u001b[1m4s\u001b[0m 5ms/step - loss: 0.1400 - val_loss: 0.0535\n",
      "Epoch 2/10\n",
      "\u001b[1m545/545\u001b[0m \u001b[32m━━━━━━━━━━━━━━━━━━━━\u001b[0m\u001b[37m\u001b[0m \u001b[1m2s\u001b[0m 4ms/step - loss: 0.0507 - val_loss: 0.0437\n",
      "Epoch 3/10\n",
      "\u001b[1m545/545\u001b[0m \u001b[32m━━━━━━━━━━━━━━━━━━━━\u001b[0m\u001b[37m\u001b[0m \u001b[1m2s\u001b[0m 4ms/step - loss: 0.0421 - val_loss: 0.0385\n",
      "Epoch 4/10\n",
      "\u001b[1m545/545\u001b[0m \u001b[32m━━━━━━━━━━━━━━━━━━━━\u001b[0m\u001b[37m\u001b[0m \u001b[1m4s\u001b[0m 6ms/step - loss: 0.0371 - val_loss: 0.0342\n",
      "Epoch 5/10\n",
      "\u001b[1m545/545\u001b[0m \u001b[32m━━━━━━━━━━━━━━━━━━━━\u001b[0m\u001b[37m\u001b[0m \u001b[1m4s\u001b[0m 5ms/step - loss: 0.0332 - val_loss: 0.0311\n",
      "Epoch 6/10\n",
      "\u001b[1m545/545\u001b[0m \u001b[32m━━━━━━━━━━━━━━━━━━━━\u001b[0m\u001b[37m\u001b[0m \u001b[1m2s\u001b[0m 4ms/step - loss: 0.0303 - val_loss: 0.0291\n",
      "Epoch 7/10\n",
      "\u001b[1m545/545\u001b[0m \u001b[32m━━━━━━━━━━━━━━━━━━━━\u001b[0m\u001b[37m\u001b[0m \u001b[1m2s\u001b[0m 4ms/step - loss: 0.0288 - val_loss: 0.0282\n",
      "Epoch 8/10\n",
      "\u001b[1m545/545\u001b[0m \u001b[32m━━━━━━━━━━━━━━━━━━━━\u001b[0m\u001b[37m\u001b[0m \u001b[1m2s\u001b[0m 4ms/step - loss: 0.0280 - val_loss: 0.0275\n",
      "Epoch 9/10\n",
      "\u001b[1m545/545\u001b[0m \u001b[32m━━━━━━━━━━━━━━━━━━━━\u001b[0m\u001b[37m\u001b[0m \u001b[1m2s\u001b[0m 4ms/step - loss: 0.0272 - val_loss: 0.0268\n",
      "Epoch 10/10\n",
      "\u001b[1m545/545\u001b[0m \u001b[32m━━━━━━━━━━━━━━━━━━━━\u001b[0m\u001b[37m\u001b[0m \u001b[1m2s\u001b[0m 4ms/step - loss: 0.0263 - val_loss: 0.0259\n",
      "Epoch 1/10\n",
      "\u001b[1m424/424\u001b[0m \u001b[32m━━━━━━━━━━━━━━━━━━━━\u001b[0m\u001b[37m\u001b[0m \u001b[1m3s\u001b[0m 4ms/step - loss: 0.1655 - val_loss: 0.0645\n",
      "Epoch 2/10\n",
      "\u001b[1m424/424\u001b[0m \u001b[32m━━━━━━━━━━━━━━━━━━━━\u001b[0m\u001b[37m\u001b[0m \u001b[1m2s\u001b[0m 4ms/step - loss: 0.0588 - val_loss: 0.0430\n",
      "Epoch 3/10\n",
      "\u001b[1m424/424\u001b[0m \u001b[32m━━━━━━━━━━━━━━━━━━━━\u001b[0m\u001b[37m\u001b[0m \u001b[1m2s\u001b[0m 4ms/step - loss: 0.0402 - val_loss: 0.0352\n",
      "Epoch 4/10\n",
      "\u001b[1m424/424\u001b[0m \u001b[32m━━━━━━━━━━━━━━━━━━━━\u001b[0m\u001b[37m\u001b[0m \u001b[1m2s\u001b[0m 4ms/step - loss: 0.0342 - val_loss: 0.0317\n",
      "Epoch 5/10\n",
      "\u001b[1m424/424\u001b[0m \u001b[32m━━━━━━━━━━━━━━━━━━━━\u001b[0m\u001b[37m\u001b[0m \u001b[1m3s\u001b[0m 4ms/step - loss: 0.0310 - val_loss: 0.0298\n",
      "Epoch 6/10\n",
      "\u001b[1m424/424\u001b[0m \u001b[32m━━━━━━━━━━━━━━━━━━━━\u001b[0m\u001b[37m\u001b[0m \u001b[1m2s\u001b[0m 4ms/step - loss: 0.0297 - val_loss: 0.0294\n",
      "Epoch 7/10\n",
      "\u001b[1m424/424\u001b[0m \u001b[32m━━━━━━━━━━━━━━━━━━━━\u001b[0m\u001b[37m\u001b[0m \u001b[1m2s\u001b[0m 4ms/step - loss: 0.0293 - val_loss: 0.0291\n",
      "Epoch 8/10\n",
      "\u001b[1m424/424\u001b[0m \u001b[32m━━━━━━━━━━━━━━━━━━━━\u001b[0m\u001b[37m\u001b[0m \u001b[1m2s\u001b[0m 4ms/step - loss: 0.0289 - val_loss: 0.0286\n",
      "Epoch 9/10\n",
      "\u001b[1m424/424\u001b[0m \u001b[32m━━━━━━━━━━━━━━━━━━━━\u001b[0m\u001b[37m\u001b[0m \u001b[1m2s\u001b[0m 4ms/step - loss: 0.0285 - val_loss: 0.0282\n",
      "Epoch 10/10\n",
      "\u001b[1m424/424\u001b[0m \u001b[32m━━━━━━━━━━━━━━━━━━━━\u001b[0m\u001b[37m\u001b[0m \u001b[1m2s\u001b[0m 4ms/step - loss: 0.0280 - val_loss: 0.0278\n",
      "Epoch 1/10\n",
      "\u001b[1m545/545\u001b[0m \u001b[32m━━━━━━━━━━━━━━━━━━━━\u001b[0m\u001b[37m\u001b[0m \u001b[1m4s\u001b[0m 5ms/step - loss: 0.1361 - val_loss: 0.0625\n",
      "Epoch 2/10\n",
      "\u001b[1m545/545\u001b[0m \u001b[32m━━━━━━━━━━━━━━━━━━━━\u001b[0m\u001b[37m\u001b[0m \u001b[1m2s\u001b[0m 4ms/step - loss: 0.0560 - val_loss: 0.0427\n",
      "Epoch 3/10\n",
      "\u001b[1m545/545\u001b[0m \u001b[32m━━━━━━━━━━━━━━━━━━━━\u001b[0m\u001b[37m\u001b[0m \u001b[1m2s\u001b[0m 4ms/step - loss: 0.0406 - val_loss: 0.0367\n",
      "Epoch 4/10\n",
      "\u001b[1m545/545\u001b[0m \u001b[32m━━━━━━━━━━━━━━━━━━━━\u001b[0m\u001b[37m\u001b[0m \u001b[1m2s\u001b[0m 4ms/step - loss: 0.0359 - val_loss: 0.0341\n",
      "Epoch 5/10\n",
      "\u001b[1m545/545\u001b[0m \u001b[32m━━━━━━━━━━━━━━━━━━━━\u001b[0m\u001b[37m\u001b[0m \u001b[1m3s\u001b[0m 5ms/step - loss: 0.0334 - val_loss: 0.0326\n",
      "Epoch 6/10\n",
      "\u001b[1m545/545\u001b[0m \u001b[32m━━━━━━━━━━━━━━━━━━━━\u001b[0m\u001b[37m\u001b[0m \u001b[1m2s\u001b[0m 4ms/step - loss: 0.0324 - val_loss: 0.0320\n",
      "Epoch 7/10\n",
      "\u001b[1m545/545\u001b[0m \u001b[32m━━━━━━━━━━━━━━━━━━━━\u001b[0m\u001b[37m\u001b[0m \u001b[1m2s\u001b[0m 4ms/step - loss: 0.0317 - val_loss: 0.0314\n",
      "Epoch 8/10\n",
      "\u001b[1m545/545\u001b[0m \u001b[32m━━━━━━━━━━━━━━━━━━━━\u001b[0m\u001b[37m\u001b[0m \u001b[1m3s\u001b[0m 4ms/step - loss: 0.0311 - val_loss: 0.0308\n",
      "Epoch 9/10\n",
      "\u001b[1m545/545\u001b[0m \u001b[32m━━━━━━━━━━━━━━━━━━━━\u001b[0m\u001b[37m\u001b[0m \u001b[1m2s\u001b[0m 4ms/step - loss: 0.0304 - val_loss: 0.0299\n",
      "Epoch 10/10\n",
      "\u001b[1m545/545\u001b[0m \u001b[32m━━━━━━━━━━━━━━━━━━━━\u001b[0m\u001b[37m\u001b[0m \u001b[1m2s\u001b[0m 4ms/step - loss: 0.0297 - val_loss: 0.0294\n",
      "Epoch 1/10\n",
      "\u001b[1m424/424\u001b[0m \u001b[32m━━━━━━━━━━━━━━━━━━━━\u001b[0m\u001b[37m\u001b[0m \u001b[1m3s\u001b[0m 5ms/step - loss: 0.1613 - val_loss: 0.0628\n",
      "Epoch 2/10\n",
      "\u001b[1m424/424\u001b[0m \u001b[32m━━━━━━━━━━━━━━━━━━━━\u001b[0m\u001b[37m\u001b[0m \u001b[1m2s\u001b[0m 4ms/step - loss: 0.0589 - val_loss: 0.0478\n",
      "Epoch 3/10\n",
      "\u001b[1m424/424\u001b[0m \u001b[32m━━━━━━━━━━━━━━━━━━━━\u001b[0m\u001b[37m\u001b[0m \u001b[1m2s\u001b[0m 4ms/step - loss: 0.0445 - val_loss: 0.0382\n",
      "Epoch 4/10\n",
      "\u001b[1m424/424\u001b[0m \u001b[32m━━━━━━━━━━━━━━━━━━━━\u001b[0m\u001b[37m\u001b[0m \u001b[1m2s\u001b[0m 4ms/step - loss: 0.0373 - val_loss: 0.0338\n",
      "Epoch 5/10\n",
      "\u001b[1m424/424\u001b[0m \u001b[32m━━━━━━━━━━━━━━━━━━━━\u001b[0m\u001b[37m\u001b[0m \u001b[1m2s\u001b[0m 4ms/step - loss: 0.0328 - val_loss: 0.0305\n",
      "Epoch 6/10\n",
      "\u001b[1m424/424\u001b[0m \u001b[32m━━━━━━━━━━━━━━━━━━━━\u001b[0m\u001b[37m\u001b[0m \u001b[1m2s\u001b[0m 4ms/step - loss: 0.0302 - val_loss: 0.0297\n",
      "Epoch 7/10\n",
      "\u001b[1m424/424\u001b[0m \u001b[32m━━━━━━━━━━━━━━━━━━━━\u001b[0m\u001b[37m\u001b[0m \u001b[1m3s\u001b[0m 5ms/step - loss: 0.0296 - val_loss: 0.0292\n",
      "Epoch 8/10\n",
      "\u001b[1m424/424\u001b[0m \u001b[32m━━━━━━━━━━━━━━━━━━━━\u001b[0m\u001b[37m\u001b[0m \u001b[1m2s\u001b[0m 4ms/step - loss: 0.0292 - val_loss: 0.0288\n",
      "Epoch 9/10\n",
      "\u001b[1m424/424\u001b[0m \u001b[32m━━━━━━━━━━━━━━━━━━━━\u001b[0m\u001b[37m\u001b[0m \u001b[1m2s\u001b[0m 4ms/step - loss: 0.0285 - val_loss: 0.0278\n",
      "Epoch 10/10\n",
      "\u001b[1m424/424\u001b[0m \u001b[32m━━━━━━━━━━━━━━━━━━━━\u001b[0m\u001b[37m\u001b[0m \u001b[1m3s\u001b[0m 5ms/step - loss: 0.0275 - val_loss: 0.0269\n"
     ]
    }
   ],
   "source": [
    "class AttackDetectionModel(Model):\n",
    "    def __init__(self, layers_sizes):\n",
    "        super(AttackDetectionModel, self).__init__()\n",
    "\n",
    "        # Layers sizes : [Input/Ouput size, hidden layer, Bottleneck size]\n",
    "        # Only one hidden layer because of the small number of sensors\n",
    "        \n",
    "        self.encoder = tf.keras.Sequential([\n",
    "            layers.Dense(layers_sizes[1], activation=\"relu\"), # Encoder hidden layer\n",
    "            layers.Dense(layers_sizes[2], activation=\"relu\")  # Bottleneck (lower-dimensionnal representation)\n",
    "        ])\n",
    "\n",
    "        self.decoder = tf.keras.Sequential([\n",
    "            layers.Dense(layers_sizes[1], activation=\"relu\"), # Decoder hidden layer\n",
    "            layers.Dense(layers_sizes[0], activation=\"sigmoid\")  # Output of the model\n",
    "        ])\n",
    "\n",
    "    def call(self, sensors):\n",
    "        encoded = self.encoder(sensors)\n",
    "        decoded = self.decoder(encoded)\n",
    "        return decoded\n",
    "\n",
    "models = []\n",
    "# Compare the results from different models\n",
    "number_models = 5\n",
    "\n",
    "# models => list of X groups of models => multiple models (two for the two datasets) => model + history\n",
    "\n",
    "for i in range(number_models):\n",
    "    models.append([])\n",
    "    # Each training dataset has different schedule routines, and thus needs to be trained on his own\n",
    "    for j in range(len(dataset_ids)):\n",
    "        models[i].append({})\n",
    "        models[i][j][\"model\"] = AttackDetectionModel([train[0].shape[1], 35, 20])\n",
    "        models[i][j][\"model\"].compile(optimizer='adam', loss='mae')\n",
    "        models[i][j][\"history\"] = models[i][j][\"model\"].fit(train[j], train[j],\n",
    "                  epochs=10,\n",
    "                  batch_size=512,\n",
    "                  validation_data=(validation[j], validation[j]),\n",
    "                  shuffle=True)"
   ]
  },
  {
   "cell_type": "markdown",
   "metadata": {},
   "source": [
    "Training and validation loss of the first group of models as an example"
   ]
  },
  {
   "cell_type": "code",
   "execution_count": 18,
   "metadata": {},
   "outputs": [
    {
     "data": {
      "image/png": "[encoded data removed]",
      "text/plain": [
       "<Figure size 640x480 with 1 Axes>"
      ]
     },
     "metadata": {},
     "output_type": "display_data"
    },
    {
     "data": {
      "image/png": "[encoded data removed]",
      "text/plain": [
       "<Figure size 640x480 with 1 Axes>"
      ]
     },
     "metadata": {},
     "output_type": "display_data"
    }
   ],
   "source": [
    "for i in range(len(dataset_ids)):\n",
    "    plt.plot(models[0][i][\"history\"].history[\"loss\"], label=\"Training Loss\")\n",
    "    plt.plot(models[0][i][\"history\"].history[\"val_loss\"], label=\"Validation Loss\")\n",
    "    plt.legend()\n",
    "    plt.show()"
   ]
  },
  {
   "cell_type": "markdown",
   "metadata": {},
   "source": [
    "Getting every reconstructions of the testing data from the models"
   ]
  },
  {
   "cell_type": "code",
   "execution_count": 19,
   "metadata": {},
   "outputs": [
    {
     "name": "stdout",
     "output_type": "stream",
     "text": [
      "\u001b[1m9113/9113\u001b[0m \u001b[32m━━━━━━━━━━━━━━━━━━━━\u001b[0m\u001b[37m\u001b[0m \u001b[1m14s\u001b[0m 2ms/step\n",
      "\u001b[1m4782/4782\u001b[0m \u001b[32m━━━━━━━━━━━━━━━━━━━━\u001b[0m\u001b[37m\u001b[0m \u001b[1m7s\u001b[0m 2ms/step\n",
      "\u001b[1m9113/9113\u001b[0m \u001b[32m━━━━━━━━━━━━━━━━━━━━\u001b[0m\u001b[37m\u001b[0m \u001b[1m14s\u001b[0m 2ms/step\n",
      "\u001b[1m4782/4782\u001b[0m \u001b[32m━━━━━━━━━━━━━━━━━━━━\u001b[0m\u001b[37m\u001b[0m \u001b[1m7s\u001b[0m 2ms/step\n",
      "\u001b[1m9113/9113\u001b[0m \u001b[32m━━━━━━━━━━━━━━━━━━━━\u001b[0m\u001b[37m\u001b[0m \u001b[1m14s\u001b[0m 2ms/step\n",
      "\u001b[1m4782/4782\u001b[0m \u001b[32m━━━━━━━━━━━━━━━━━━━━\u001b[0m\u001b[37m\u001b[0m \u001b[1m7s\u001b[0m 2ms/step\n",
      "\u001b[1m9113/9113\u001b[0m \u001b[32m━━━━━━━━━━━━━━━━━━━━\u001b[0m\u001b[37m\u001b[0m \u001b[1m14s\u001b[0m 1ms/step\n",
      "\u001b[1m4782/4782\u001b[0m \u001b[32m━━━━━━━━━━━━━━━━━━━━\u001b[0m\u001b[37m\u001b[0m \u001b[1m8s\u001b[0m 2ms/step \n",
      "\u001b[1m9113/9113\u001b[0m \u001b[32m━━━━━━━━━━━━━━━━━━━━\u001b[0m\u001b[37m\u001b[0m \u001b[1m14s\u001b[0m 2ms/step\n",
      "\u001b[1m4782/4782\u001b[0m \u001b[32m━━━━━━━━━━━━━━━━━━━━\u001b[0m\u001b[37m\u001b[0m \u001b[1m8s\u001b[0m 2ms/step\n"
     ]
    }
   ],
   "source": [
    "predictions = [[models[j][i][\"model\"].predict(test[i]) for i in range(len(dataset_ids))]for j in range(len(models))]"
   ]
  },
  {
   "cell_type": "markdown",
   "metadata": {},
   "source": [
    "Function for calculating the loss between the real testing data, and the reconstruction from a given model"
   ]
  },
  {
   "cell_type": "code",
   "execution_count": 21,
   "metadata": {},
   "outputs": [],
   "source": [
    "def test_loss(dataset_id, iteration):\n",
    "    # Squared difference\n",
    "    return np.square(test[dataset_id] - predictions[iteration][dataset_id])"
   ]
  },
  {
   "cell_type": "markdown",
   "metadata": {},
   "source": [
    "Calculating all the losses"
   ]
  },
  {
   "cell_type": "code",
   "execution_count": 22,
   "metadata": {},
   "outputs": [],
   "source": [
    "loss = [[test_loss(i, j) for i in range(len(dataset_ids))] for j in range(number_models)]"
   ]
  },
  {
   "cell_type": "markdown",
   "metadata": {},
   "source": [
    "In this step, we are separating each attack from the losses. This is accomplished using the testing labels, which indicate when the system detected an attack.\n",
    "\n",
    "Additionally, we are adding padding before and after each attack to avoid losing information.\n",
    "\n",
    "`attack (list of sensor values over time) = buffer + labels indicating attack + buffer (from the loss calculation above)`"
   ]
  },
  {
   "cell_type": "code",
   "execution_count": 23,
   "metadata": {},
   "outputs": [],
   "source": [
    "# Generating the ids of the different attacks (cf. detailed pdf of the dataset)\n",
    "attack_ids = [\"A\" + j + str(i).zfill(2) for j in [\"1\", \"2\"] for i in range(1, 20)]\n",
    "\n",
    "buffered_attacks = {}\n",
    "\n",
    "start_buffer = 20\n",
    "end_buffer = 200\n",
    "\n",
    "for j in range(number_models):\n",
    "    attack_iterator = iter(attack_ids)\n",
    "    reading_attack = False\n",
    "    \n",
    "    for dataset_id, dataset in enumerate(labels):\n",
    "        for i, label_sample in enumerate(dataset):\n",
    "            if label_sample[0] == 1 and not reading_attack:\n",
    "                reading_attack = True\n",
    "                attack_start = i\n",
    "            elif label_sample[0] == 0 and reading_attack:\n",
    "                reading_attack = False\n",
    "                attack = next(attack_iterator)\n",
    "\n",
    "                buffered_attacks[attack] = buffered_attacks.get(attack, []) + [loss[j][dataset_id][attack_start - start_buffer:i + end_buffer]]"
   ]
  },
  {
   "cell_type": "markdown",
   "metadata": {},
   "source": [
    "This function is giving an indicative threshold for \"abnormal loss\" for a given vector on a timeline"
   ]
  },
  {
   "cell_type": "code",
   "execution_count": 24,
   "metadata": {},
   "outputs": [],
   "source": [
    "def threshold(vector):\n",
    "    return np.mean(vector) + np.std(vector)"
   ]
  },
  {
   "cell_type": "markdown",
   "metadata": {},
   "source": [
    "Function to transform each value of the vector to boolean of (above threshold or not)"
   ]
  },
  {
   "cell_type": "code",
   "execution_count": 25,
   "metadata": {},
   "outputs": [],
   "source": [
    "def crossing_threshold(vector):\n",
    "    return vector - threshold(vector) > 0"
   ]
  },
  {
   "cell_type": "markdown",
   "metadata": {},
   "source": [
    "This function is deciding if a sensor is abnormal on a given timeline (returning boolean), depending on two criteria :\n",
    "- The sensor shouldn't be abnormal before the attack (we can argue that the values of the sensor cannot really be trusted)\n",
    "- The sensor should reach a minimum of abnormal \"quantity\" during the attack"
   ]
  },
  {
   "cell_type": "code",
   "execution_count": 27,
   "metadata": {},
   "outputs": [],
   "source": [
    "# Input : Vector of boolean \"is above threshold for a given timestamp\"\n",
    "def is_sensor_affected(vector):\n",
    "    # Criteria 1 : Not already abnormal before the attack\n",
    "    # Criteria 2 : Reach abnormal level during the attack (or during the buffer time at the end)\n",
    "    min_percentage_abn_duration = 0.15\n",
    "    \n",
    "    return (np.sum(vector[:start_buffer]) == 0) and (np.sum(vector[start_buffer:]) / len(vector[start_buffer:]) >= min_percentage_abn_duration)"
   ]
  },
  {
   "cell_type": "markdown",
   "metadata": {},
   "source": [
    "Here, we maintain the same shape of `(buffer + length of labels indicating attack + buffer) x sensor_amount`, but we modify the content.\n",
    "\n",
    "For a given attack:\n",
    "- If a sensor is considered 'affected' (as determined by the function mentioned above), each of its values will be converted to booleans, indicating whether they are 'abnormal' or not.\n",
    "- If the sensor is not considered affected, it will be filled with zeros."
   ]
  },
  {
   "cell_type": "code",
   "execution_count": 29,
   "metadata": {},
   "outputs": [],
   "source": [
    "attacks_sensors = {}\n",
    "\n",
    "for i in range(number_models):\n",
    "    for attack_id, sensors_list in buffered_attacks.items():\n",
    "        crossing_sensors = np.apply_along_axis(crossing_threshold, 0, sensors_list[i])\n",
    "        affected_sensors = np.apply_along_axis(is_sensor_affected, 0, crossing_sensors)\n",
    "\n",
    "        attacks_sensors[attack_id] = attacks_sensors.get(attack_id, []) + [np.empty(crossing_sensors.shape)]\n",
    "        \n",
    "        for column_id in range(crossing_sensors.shape[1]):\n",
    "            if affected_sensors[column_id]:\n",
    "                attacks_sensors[attack_id][i][:, column_id] = crossing_sensors[:, column_id]\n",
    "            else:\n",
    "                # Filling the sensor values with zeros instead of removing it in order to keep the index of each sensor correct\n",
    "                attacks_sensors[attack_id][i][:, column_id] = np.zeros((crossing_sensors.shape[0],))"
   ]
  },
  {
   "cell_type": "markdown",
   "metadata": {},
   "source": [
    "This piece of code is filling with zeros the \"small peeks\" of abnormal timestamps. If they are not considered big enough, they are considered not meaningfull enough."
   ]
  },
  {
   "cell_type": "code",
   "execution_count": 30,
   "metadata": {},
   "outputs": [],
   "source": [
    "# Minimum size (in seconds) of an \"abnormal peek\" during an attack for it to be considered \"meaningfull\"\n",
    "min_peek_lenght = 10\n",
    "\n",
    "for attack_id, sensors_list in attacks_sensors.items():\n",
    "    for j in range(number_models):\n",
    "        for sensor_id, sensor in enumerate(sensors_list[j].T):\n",
    "            reading_peek = False\n",
    "            \n",
    "            for i, value in enumerate(sensor):\n",
    "                if value and not reading_peek:\n",
    "                    reading_peek = True\n",
    "                    start_peek = i\n",
    "                elif not value and reading_peek:\n",
    "                    reading_peek = False\n",
    "    \n",
    "                    # Replace small peeks with zeros\n",
    "                    if i - start_peek < min_peek_lenght:\n",
    "                        attacks_sensors[attack_id][j][start_peek:i, sensor_id].fill(0)\n",
    "    \n",
    "            if reading_peek and len(sensor) - start_peek < min_peek_lenght:\n",
    "                attacks_sensors[attack_id][j][start_peek:len(sensor), sensor_id].fill(0)"
   ]
  },
  {
   "cell_type": "markdown",
   "metadata": {},
   "source": [
    "This function calculates the correlation score between two sensors. The shift window represents the amount of time (in seconds) allowed for shifting the two signals. In other words, we permit a delay of X seconds (in both directions) to achieve the best possible correlation score. However, this shift is not retained later; it is merely a temporary adjustment to avoid being overly strict in the correlation analysis."
   ]
  },
  {
   "cell_type": "code",
   "execution_count": 31,
   "metadata": {},
   "outputs": [],
   "source": [
    "# Gap of time for taking into account \"delayed impacts\" between two sensors\n",
    "shift_window = 5\n",
    "\n",
    "# Function to determine if two sensors are influencing each other\n",
    "def correlation(sensor_1, sensor_2):\n",
    "    # Adding time padding\n",
    "    sensor_1 = np.append(np.zeros((shift_window)), sensor_1)\n",
    "    sensor_1 = np.append(sensor_1, np.zeros((shift_window)))\n",
    "\n",
    "    return np.correlate(sensor_1, sensor_2, mode=\"valid\")"
   ]
  },
  {
   "cell_type": "markdown",
   "metadata": {},
   "source": [
    "This code calculates the correlation score between every possible pair of sensors. If the score is not sufficiently high, the pair of sensors for the given attack will not be considered.\n",
    "\n",
    "Next, we will identify the first timestamp where both sensors exhibit abnormal behavior simultaneously.\n",
    "\n",
    "Finally, we will examine the timestamp immediately before the 'first meeting timestamp.' If one sensor is abnormal and the other is not, we assume that the first sensor is 'affecting' the second one. If both sensors become abnormal at the same time, we assume that they influence each other.\n",
    "\n",
    "Reading: (1, 2) = sensor 1 is affecting sensor 2\n",
    "\n",
    "If both sensors are affecting each other, two relations, (1, 2) and (2, 1), will be added to the list.\""
   ]
  },
  {
   "cell_type": "code",
   "execution_count": 32,
   "metadata": {},
   "outputs": [],
   "source": [
    "attack_chains = {}\n",
    "\n",
    "relationship_min_value = 20\n",
    "\n",
    "for attack_id, sensors_list in attacks_sensors.items():\n",
    "    attack_chains[attack_id] = []\n",
    "\n",
    "    for i, sensors in enumerate(sensors_list):\n",
    "        attack_chains[attack_id].append([])\n",
    "        \n",
    "        for sensor_1 in range(sensors.shape[1] - 1):\n",
    "            for sensor_2 in range(sensor_1 + 1, sensors.shape[1]):\n",
    "                # If the two sensors are closely correlated\n",
    "                if np.max(correlation(sensors[:, sensor_1], sensors[:, sensor_2])) >= relationship_min_value:\n",
    "                    first_meeting_timestamp = None\n",
    "                    # First timestamp where both sensors are abnormal\n",
    "                    for timestamp in range(sensors.shape[0]):\n",
    "                        if sensors[timestamp, sensor_1] and sensors[timestamp, sensor_2]:\n",
    "                            first_meeting_timestamp = timestamp\n",
    "                            break\n",
    "    \n",
    "                    # NOTE : The case were the two sensors are correlated (with a shift) but in real life never abnormal\n",
    "                    # at the same time never came by, so it is not taken into account here\n",
    "                    \n",
    "                    # If there is a meeting timestamp\n",
    "                    if first_meeting_timestamp != None:\n",
    "                        # If the two sensors started being abnormal at the same time\n",
    "                        if first_meeting_timestamp == 0 or (not sensors[first_meeting_timestamp-1, sensor_1] and not sensors[first_meeting_timestamp-1, sensor_2]):\n",
    "                            # Then both sensors are influencing each other\n",
    "                            attack_chains[attack_id][i] += [(sensor_1, sensor_2), (sensor_2, sensor_1)]\n",
    "    \n",
    "                        # If the first sensor was abnormal right before first meeting point\n",
    "                        elif sensors[first_meeting_timestamp-1, sensor_1]:\n",
    "                            # Then the first sensor is influencing the second one\n",
    "                            attack_chains[attack_id][i].append((sensor_1, sensor_2))\n",
    "    \n",
    "                        # If the second sensor was abnormal right before first meeting point\n",
    "                        elif sensors[first_meeting_timestamp-1, sensor_2]:\n",
    "                            # Then the second sensor is influencing the first one\n",
    "                            attack_chains[attack_id][i].append((sensor_2, sensor_1))"
   ]
  },
  {
   "cell_type": "markdown",
   "metadata": {},
   "source": [
    "This is where we finally utilize the multiple models: since a single model might be incorrect in some edge cases, we cannot fully rely on it to determine the relationships we need.\n",
    "\n",
    "To address this issue, we previously decided to train multiple identical models. This allows us to observe recurrent behaviors across the models and identify which decisions appear to be edge cases.\n",
    "\n",
    "Here, we are evaluating how frequently a relationship between two sensors is detected by the different models.\n",
    "\n",
    "If fewer than half of the models detect a relationship, it is considered irrelevant."
   ]
  },
  {
   "cell_type": "code",
   "execution_count": 33,
   "metadata": {},
   "outputs": [],
   "source": [
    "kept_relations_amount = 0\n",
    "unkept_relations_amount = 0\n",
    "\n",
    "seen = {}\n",
    "kept_relations = {}\n",
    "\n",
    "for attack_id, chains in attack_chains.items():\n",
    "    seen[attack_id] = []\n",
    "    kept_relations[attack_id] = []\n",
    "    for i, couples in enumerate(chains):\n",
    "        for couple in couples:\n",
    "            if couple not in seen[attack_id]:\n",
    "                occurences = 1\n",
    "\n",
    "                for j, other_chain in enumerate(chains):\n",
    "                    if i != j and couple in other_chain:\n",
    "                        occurences += 1\n",
    "                            \n",
    "                if occurences >= number_models * 0.5:\n",
    "                    kept_relations_amount += 1\n",
    "                    kept_relations[attack_id].append(couple)\n",
    "                else:\n",
    "                    unkept_relations_amount += 1\n",
    "                    \n",
    "                seen[attack_id].append(couple)"
   ]
  },
  {
   "cell_type": "code",
   "execution_count": 34,
   "metadata": {},
   "outputs": [
    {
     "name": "stdout",
     "output_type": "stream",
     "text": [
      "Relations appearing accross half or more models : 639\n",
      "Relations not appearing enough accross multiple models : 5359\n",
      "A101 : [(23, 0), (24, 0), (14, 15), (14, 23), (14, 24), (15, 23), (15, 24), (23, 24), (27, 23), (57, 23), (27, 24), (57, 24), (57, 27), (14, 13), (23, 13), (24, 13), (27, 13), (57, 13), (14, 27), (14, 57), (27, 57)]\n",
      "A102 : [(2, 1), (14, 1), (20, 1), (1, 22), (23, 1), (24, 1), (14, 2), (20, 2), (21, 2), (2, 22), (23, 2), (24, 2), (14, 20), (14, 21), (14, 23), (14, 24), (18, 19), (20, 21), (20, 22), (20, 23), (20, 24), (20, 57), (21, 22), (23, 21), (24, 21), (21, 57), (23, 22), (24, 22), (57, 22), (23, 24), (23, 57), (14, 22), (14, 27), (20, 27), (27, 22), (23, 27), (52, 55)]\n",
      "A103 : [(14, 1), (1, 27), (14, 15), (14, 20), (14, 21), (14, 23), (14, 24), (14, 27), (14, 57), (15, 20), (20, 15), (15, 21), (15, 23), (15, 24), (15, 27), (20, 21), (20, 23), (20, 24), (20, 27), (20, 57), (21, 23), (21, 24), (21, 27), (23, 24), (27, 23), (57, 23), (27, 24), (57, 24), (27, 57), (15, 1), (14, 22), (20, 22), (21, 22), (23, 22), (24, 22)]\n",
      "A104 : [(3, 13), (43, 13), (55, 54)]\n",
      "A105 : [(12, 13), (12, 14), (22, 12), (13, 14), (22, 13), (19, 18), (19, 22), (22, 43), (23, 24), (21, 22)]\n",
      "A106 : [(52, 13), (23, 24), (27, 57), (52, 54), (12, 1), (27, 1), (57, 1)]\n",
      "A107 : [(3, 26), (3, 44), (3, 48), (3, 49), (3, 52), (3, 53), (5, 6), (5, 12), (16, 5), (5, 17), (5, 22), (5, 26), (5, 36), (5, 48), (6, 12), (16, 6), (17, 6), (7, 8), (7, 11), (8, 9), (8, 12), (8, 13), (8, 22), (8, 26), (8, 36), (8, 44), (8, 54), (8, 55), (11, 9), (9, 12), (16, 9), (17, 9), (9, 22), (9, 26), (9, 36), (11, 12), (11, 13), (17, 11), (11, 22), (53, 11), (11, 55), (12, 13), (13, 12), (16, 12), (17, 12), (12, 22), (26, 12), (36, 12), (44, 12), (48, 12), (49, 12), (53, 12), (17, 13), (26, 13), (36, 13), (48, 13), (53, 13), (15, 23), (15, 24), (16, 17), (16, 22), (16, 26), (16, 36), (16, 44), (16, 48), (16, 53), (16, 54), (17, 22), (17, 26), (17, 36), (17, 44), (17, 48), (17, 55), (26, 22), (36, 22), (44, 22), (48, 22), (49, 22), (53, 22), (54, 22), (22, 55), (23, 24), (36, 26), (48, 26), (26, 49), (26, 52), (53, 26), (54, 26), (53, 36), (54, 36), (48, 44), (49, 44), (52, 44), (53, 44), (48, 53), (48, 54), (48, 55), (53, 49), (53, 52), (53, 54), (53, 55), (8, 15), (8, 48), (54, 8), (9, 15), (48, 17), (53, 17), (26, 44), (26, 50), (48, 36), (53, 50), (50, 54), (12, 54)]\n",
      "A108 : []\n",
      "A109 : []\n",
      "A110 : []\n",
      "A111 : [(14, 1), (43, 49)]\n",
      "A112 : [(44, 12)]\n",
      "A113 : [(36, 7), (55, 7), (36, 43), (36, 47), (36, 55), (55, 43), (50, 44), (47, 55), (36, 44), (36, 50)]\n",
      "A114 : []\n",
      "A115 : [(8, 9), (43, 36), (36, 1)]\n",
      "A116 : []\n",
      "A117 : [(14, 7), (20, 7), (21, 7), (20, 14), (14, 21), (14, 57), (20, 21), (20, 27), (20, 57), (14, 15), (20, 15), (21, 15)]\n",
      "A118 : [(1, 18), (36, 1), (36, 18)]\n",
      "A119 : []\n",
      "A201 : [(2, 0), (23, 0), (14, 2), (2, 22), (23, 2), (24, 2), (27, 2), (57, 2), (14, 12), (23, 12), (24, 12), (27, 12), (29, 12), (57, 12), (14, 13), (13, 22), (23, 13), (24, 13), (27, 13), (57, 13), (14, 15), (14, 22), (23, 14), (24, 14), (27, 14), (14, 29), (57, 14), (23, 15), (24, 15), (27, 15), (57, 15), (23, 22), (24, 22), (27, 22), (22, 29), (57, 22), (23, 24), (23, 27), (23, 29), (23, 57), (24, 27), (24, 29), (24, 57), (27, 29), (57, 27), (57, 29), (1, 58), (2, 7), (12, 7), (14, 7), (22, 7), (12, 22), (13, 7), (54, 12), (13, 55), (14, 54), (24, 54), (27, 54)]\n",
      "A202 : [(20, 14), (14, 57), (57, 22), (27, 57), (20, 21)]\n",
      "A203 : []\n",
      "A204 : [(12, 2), (13, 2), (3, 7), (3, 9), (3, 12), (3, 13), (3, 22), (3, 26), (7, 9), (7, 12), (7, 13), (7, 22), (9, 12), (9, 13), (12, 13), (26, 12), (21, 13), (22, 13), (26, 13), (54, 13), (2, 1), (22, 12)]\n",
      "A205 : [(3, 12), (3, 13), (3, 29), (6, 5), (17, 5), (12, 13), (12, 29), (13, 29)]\n",
      "A206 : []\n",
      "A207 : [(3, 18), (3, 19), (18, 19), (30, 18)]\n",
      "A208 : [(3, 2), (12, 3), (3, 13), (13, 12), (12, 29), (12, 57), (13, 29), (47, 13), (13, 57), (26, 29), (2, 47), (12, 15)]\n",
      "A209 : [(1, 5), (9, 6), (16, 6), (17, 6), (9, 16), (9, 17), (16, 17), (17, 16), (16, 9)]\n",
      "A210 : [(3, 19), (4, 7), (4, 19), (7, 19), (12, 13), (12, 19), (20, 12), (21, 12), (27, 12), (47, 12), (57, 12), (13, 19), (20, 13), (21, 13), (27, 13), (47, 13), (57, 13), (55, 19), (20, 21), (27, 20), (20, 47), (20, 55), (57, 20), (27, 21), (21, 47), (21, 55), (57, 21), (27, 47), (27, 55), (27, 57), (57, 47), (57, 55), (1, 18), (21, 1), (27, 1), (57, 1), (4, 12), (4, 13), (4, 18), (20, 4), (21, 4), (27, 4), (57, 4), (12, 18), (55, 12), (13, 18), (55, 13), (19, 18), (20, 18), (21, 18), (57, 18)]\n",
      "A211 : [(14, 22), (14, 57), (57, 22), (22, 28)]\n",
      "A212 : [(2, 3), (2, 5), (13, 2), (14, 2), (2, 15), (20, 2), (21, 2), (2, 22), (2, 29), (54, 2), (2, 55), (3, 15), (22, 3), (4, 5), (13, 4), (14, 4), (20, 4), (4, 22), (4, 29), (29, 4), (4, 55), (14, 5), (20, 5), (21, 5), (5, 22), (54, 5), (14, 12), (20, 12), (21, 12), (12, 22), (12, 29), (55, 12), (14, 13), (20, 13), (21, 13), (13, 22), (13, 29), (13, 54), (13, 58), (20, 14), (14, 21), (14, 22), (14, 29), (44, 14), (14, 54), (14, 55), (14, 58), (22, 15), (20, 21), (20, 22), (20, 29), (44, 20), (20, 54), (20, 55), (20, 58), (21, 22), (21, 29), (44, 21), (21, 55), (21, 58), (29, 22), (58, 22), (54, 29), (44, 54), (54, 55), (4, 2), (12, 2), (12, 4), (21, 4), (54, 4), (12, 13), (12, 30), (54, 12), (14, 30), (54, 14), (20, 30), (21, 30), (54, 21), (14, 7), (20, 7), (21, 7)]\n",
      "A213 : [(0, 2), (0, 4), (0, 14), (0, 18), (0, 19), (14, 2), (2, 19), (44, 3), (14, 4), (4, 19), (8, 14), (8, 18), (8, 19), (14, 18), (14, 19), (14, 23), (18, 19)]\n",
      "A214 : [(36, 43), (36, 52), (36, 54), (44, 43), (36, 49)]\n",
      "A215 : [(8, 9), (9, 8), (36, 11), (52, 36), (54, 55), (8, 5), (36, 5), (16, 6), (6, 17), (36, 6), (36, 8), (16, 17), (36, 16), (36, 17)]\n",
      "A216 : [(30, 29), (30, 44), (30, 49), (49, 44), (44, 50), (50, 44), (49, 50)]\n",
      "A217 : [(47, 0), (3, 14), (15, 3), (3, 18), (3, 19), (19, 3), (23, 3), (24, 3), (4, 12), (4, 14), (15, 4), (4, 18), (23, 4), (36, 4), (4, 47), (13, 12), (15, 12), (18, 12), (47, 12), (58, 12), (22, 13), (47, 13), (15, 14), (19, 14), (21, 14), (23, 14), (24, 14), (15, 18), (15, 19), (15, 23), (23, 15), (15, 24), (15, 36), (15, 47), (19, 18), (23, 18), (24, 18), (36, 18), (47, 18), (23, 19), (24, 19), (23, 24), (36, 47), (52, 47), (54, 47), (47, 58), (52, 54), (54, 52), (52, 55), (54, 55), (47, 4), (4, 58), (58, 4), (47, 15), (15, 58), (18, 19), (58, 18)]\n",
      "A218 : [(14, 2), (20, 2), (21, 2), (22, 3), (20, 14), (14, 21), (14, 22), (20, 21), (20, 22), (21, 22), (14, 12), (20, 12), (21, 12), (14, 30), (20, 30), (21, 30)]\n",
      "A219 : [(52, 7), (20, 12), (20, 13), (21, 13), (14, 15), (20, 14), (20, 15), (20, 21), (20, 22), (21, 22), (14, 21), (14, 22)]\n"
     ]
    }
   ],
   "source": [
    "print(\"Relations appearing accross half or more models :\", kept_relations_amount)\n",
    "print(\"Relations not appearing enough accross multiple models :\", unkept_relations_amount)\n",
    "print(\"\\n\".join([attack_id + \" : \" + str(couples) for attack_id, couples in kept_relations.items()]))"
   ]
  }
 ],
 "metadata": {
  "kernelspec": {
   "display_name": "Python 3 (ipykernel)",
   "language": "python",
   "name": "python3"
  },
  "language_info": {
   "codemirror_mode": {
    "name": "ipython",
    "version": 3
   },
   "file_extension": ".py",
   "mimetype": "text/x-python",
   "name": "python",
   "nbconvert_exporter": "python",
   "pygments_lexer": "ipython3",
   "version": "3.11.2"
  }
 },
 "nbformat": 4,
 "nbformat_minor": 4
}
