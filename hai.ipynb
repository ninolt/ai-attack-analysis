{
 "cells": [
  {
   "cell_type": "markdown",
   "metadata": {},
   "source": [
    "# Predicting cyberattacks - HAI 20.07 dataset\n",
    "\n",
    "This Jupyter notebook explores various approaches for implementing machine learning algorithms that detects attacks in the HAI 20.07 dataset."
   ]
  },
  {
   "cell_type": "markdown",
   "metadata": {},
   "source": [
    "## Downloading the dataset\n",
    "\n",
    "In this section, we will be looking at how to download the different CSV files, and how to convert them as pandas dataframes."
   ]
  },
  {
   "cell_type": "code",
   "execution_count": 1,
   "metadata": {},
   "outputs": [
    {
     "name": "stdout",
     "output_type": "stream",
     "text": [
      "--2024-07-16 15:08:54--  https://raw.githubusercontent.com/icsdataset/hai/master/hai-20.07/test1.csv.gz\n",
      "Resolving raw.githubusercontent.com (raw.githubusercontent.com)... 185.199.111.133, 185.199.108.133, 185.199.110.133, ...\n",
      "Connecting to raw.githubusercontent.com (raw.githubusercontent.com)|185.199.111.133|:443... connected.\n",
      "HTTP request sent, awaiting response... 200 OK\n",
      "Length: 32813703 (31M) [application/octet-stream]\n",
      "Saving to: 'STDOUT'\n",
      "\n",
      "-                   100%[===================>]  31.29M  6.60MB/s    in 4.7s    \n",
      "\n",
      "2024-07-16 15:09:02 (6.64 MB/s) - written to stdout [32813703/32813703]\n",
      "\n",
      "--2024-07-16 15:09:02--  https://raw.githubusercontent.com/icsdataset/hai/master/hai-20.07/test2.csv.gz\n",
      "Resolving raw.githubusercontent.com (raw.githubusercontent.com)... 185.199.109.133, 185.199.110.133, 185.199.108.133, ...\n",
      "Connecting to raw.githubusercontent.com (raw.githubusercontent.com)|185.199.109.133|:443... connected.\n",
      "HTTP request sent, awaiting response... 200 OK\n",
      "Length: 16907509 (16M) [application/octet-stream]\n",
      "Saving to: 'STDOUT'\n",
      "\n",
      "-                   100%[===================>]  16.12M  6.63MB/s    in 2.4s    \n",
      "\n",
      "2024-07-16 15:09:06 (6.63 MB/s) - written to stdout [16907509/16907509]\n",
      "\n",
      "--2024-07-16 15:09:06--  https://raw.githubusercontent.com/icsdataset/hai/master/hai-20.07/train1.csv.gz\n",
      "Resolving raw.githubusercontent.com (raw.githubusercontent.com)... 185.199.109.133, 185.199.110.133, 185.199.108.133, ...\n",
      "Connecting to raw.githubusercontent.com (raw.githubusercontent.com)|185.199.109.133|:443... connected.\n",
      "HTTP request sent, awaiting response... 200 OK\n",
      "Length: 35252451 (34M) [application/octet-stream]\n",
      "Saving to: 'STDOUT'\n",
      "\n",
      "-                   100%[===================>]  33.62M  6.72MB/s    in 5.1s    \n",
      "\n",
      "2024-07-16 15:09:15 (6.58 MB/s) - written to stdout [35252451/35252451]\n",
      "\n",
      "--2024-07-16 15:09:15--  https://raw.githubusercontent.com/icsdataset/hai/master/hai-20.07/train2.csv.gz\n",
      "Resolving raw.githubusercontent.com (raw.githubusercontent.com)... 185.199.109.133, 185.199.110.133, 185.199.108.133, ...\n",
      "Connecting to raw.githubusercontent.com (raw.githubusercontent.com)|185.199.109.133|:443... connected.\n",
      "HTTP request sent, awaiting response... 200 OK\n",
      "Length: 26725939 (25M) [application/octet-stream]\n",
      "Saving to: 'STDOUT'\n",
      "\n",
      "-                   100%[===================>]  25.49M  6.65MB/s    in 3.8s    \n",
      "\n",
      "2024-07-16 15:09:21 (6.66 MB/s) - written to stdout [26725939/26725939]\n",
      "\n"
     ]
    }
   ],
   "source": [
    "!mkdir -p ./data\n",
    "!wget -O - \"https://raw.githubusercontent.com/icsdataset/hai/master/hai-20.07/test1.csv.gz\" | gunzip > ./data/test1.csv\n",
    "!wget -O - \"https://raw.githubusercontent.com/icsdataset/hai/master/hai-20.07/test2.csv.gz\" | gunzip > ./data/test2.csv\n",
    "!wget -O - \"https://raw.githubusercontent.com/icsdataset/hai/master/hai-20.07/train1.csv.gz\" | gunzip > ./data/train1.csv\n",
    "!wget -O - \"https://raw.githubusercontent.com/icsdataset/hai/master/hai-20.07/train2.csv.gz\" | gunzip > ./data/train2.csv"
   ]
  },
  {
   "cell_type": "markdown",
   "metadata": {},
   "source": [
    "## Displaying the datasets\n",
    "\n",
    "Here, we will try to visualize the different downloaded datasets, and its metadatas."
   ]
  },
  {
   "cell_type": "code",
   "execution_count": 119,
   "metadata": {},
   "outputs": [],
   "source": [
    "import pandas as pd\n",
    "import datetime"
   ]
  },
  {
   "cell_type": "code",
   "execution_count": 62,
   "metadata": {},
   "outputs": [],
   "source": [
    "train = []\n",
    "test = []\n",
    "\n",
    "train.append(pd.read_csv(\"./data/train1.csv\", sep=\";\", index_col=\"time\", usecols=list(range(60))))\n",
    "train.append(pd.read_csv(\"./data/train2.csv\", sep=\";\", index_col=\"time\", usecols=list(range(60))))\n",
    "\n",
    "test.append(pd.read_csv(\"./data/test1.csv\", sep=\";\", index_col=\"time\"))\n",
    "test.append(pd.read_csv(\"./data/test2.csv\", sep=\";\", index_col=\"time\"))"
   ]
  },
  {
   "cell_type": "code",
   "execution_count": 100,
   "metadata": {},
   "outputs": [],
   "source": [
    "total_training_duration = sum([df.shape[0] for df in train])\n",
    "total_testing_duration = sum([df.shape[0] for df in test])"
   ]
  },
  {
   "cell_type": "code",
   "execution_count": 101,
   "metadata": {},
   "outputs": [
    {
     "name": "stdout",
     "output_type": "stream",
     "text": [
      "Number of training data points: 550800\n",
      "Number of testing data points: 444600\n"
     ]
    }
   ],
   "source": [
    "print(\"Number of training data points:\", total_training_duration)\n",
    "print(\"Number of testing data points:\", total_testing_duration)"
   ]
  },
  {
   "cell_type": "code",
   "execution_count": 110,
   "metadata": {},
   "outputs": [],
   "source": [
    "attacks_series = pd.concat([test_df[\"attack\"] for test_df in test])\n",
    "\n",
    "total_attacks_duration = attacks_series.sum()\n",
    "\n",
    "# Extracting each attack duration\n",
    "attacks_durations = pd.Series()\n",
    "\n",
    "# Joining all attacks as a string\n",
    "str_attacks = \"\".join([str(data_point) for data_point in attacks_series])\n",
    "\n",
    "# Splitting on the 0s and removing empty values\n",
    "# (Keeping only the sequences of 1s)\n",
    "attack_sequences = list(filter(lambda sequence: sequence != \"\", str_attacks.split(\"0\")))\n",
    "\n",
    "# Returning the lenght of every attack sequence (in seconds)\n",
    "attacks_durations = pd.Series([len(attack_sequence) for attack_sequence in attack_sequences])"
   ]
  },
  {
   "cell_type": "code",
   "execution_count": 117,
   "metadata": {},
   "outputs": [
    {
     "name": "stdout",
     "output_type": "stream",
     "text": [
      "Statistics about the attacks and their durations (in seconds)\n"
     ]
    },
    {
     "data": {
      "text/plain": [
       "count      38.000000\n",
       "mean      461.236842\n",
       "std       422.544508\n",
       "min       151.000000\n",
       "25%       316.750000\n",
       "50%       365.000000\n",
       "75%       513.000000\n",
       "max      2888.000000\n",
       "dtype: float64"
      ]
     },
     "execution_count": 117,
     "metadata": {},
     "output_type": "execute_result"
    }
   ],
   "source": [
    "print(\"Statistics about the attacks and their durations (in seconds)\")\n",
    "attacks_durations.describe()"
   ]
  },
  {
   "cell_type": "code",
   "execution_count": 128,
   "metadata": {},
   "outputs": [
    {
     "name": "stdout",
     "output_type": "stream",
     "text": [
      "System was under attack for 4:52:07 out of 5 days, 3:30:00\n",
      "This represents 3.94% of the testing time.\n"
     ]
    }
   ],
   "source": [
    "print(\"System was under attack for\", str(datetime.timedelta(seconds=int(total_attacks_duration))), \"out of\", str(datetime.timedelta(seconds=total_testing_duration)))\n",
    "print(f\"This represents {round(total_attacks_duration/total_testing_duration*100, 2)}% of the testing time.\")"
   ]
  }
 ],
 "metadata": {
  "kernelspec": {
   "display_name": "Python 3 (ipykernel)",
   "language": "python",
   "name": "python3"
  },
  "language_info": {
   "codemirror_mode": {
    "name": "ipython",
    "version": 3
   },
   "file_extension": ".py",
   "mimetype": "text/x-python",
   "name": "python",
   "nbconvert_exporter": "python",
   "pygments_lexer": "ipython3",
   "version": "3.8.16"
  }
 },
 "nbformat": 4,
 "nbformat_minor": 4
}
