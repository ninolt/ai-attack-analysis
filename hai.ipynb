{
 "cells": [
  {
   "cell_type": "markdown",
   "metadata": {},
   "source": [
    "# Predicting cyberattacks - HAI 20.07 dataset\n",
    "\n",
    "This Jupyter notebook explores various approaches for implementing machine learning algorithms that detects attacks in the HAI 20.07 dataset."
   ]
  },
  {
   "cell_type": "markdown",
   "metadata": {},
   "source": [
    "## Downloading the dataset\n",
    "\n",
    "In this section, we will be looking at how to download the different CSV files, and how to convert them as pandas dataframes."
   ]
  },
  {
   "cell_type": "code",
   "execution_count": 28,
   "metadata": {},
   "outputs": [
    {
     "name": "stdout",
     "output_type": "stream",
     "text": [
      "--2024-07-15 16:07:16--  https://raw.githubusercontent.com/icsdataset/hai/master/hai-20.07/test1.csv.gz\n",
      "Resolving raw.githubusercontent.com (raw.githubusercontent.com)... 185.199.110.133, 185.199.111.133, 185.199.108.133, ...\n",
      "Connecting to raw.githubusercontent.com (raw.githubusercontent.com)|185.199.110.133|:443... connected.\n",
      "HTTP request sent, awaiting response... 200 OK\n",
      "Length: 32813703 (31M) [application/octet-stream]\n",
      "Saving to: ‘STDOUT’\n",
      "\n",
      "-                   100%[===================>]  31.29M  4.15MB/s    in 8.0s    \n",
      "\n",
      "2024-07-15 16:07:24 (3.91 MB/s) - written to stdout [32813703/32813703]\n",
      "\n",
      "--2024-07-15 16:07:25--  https://raw.githubusercontent.com/icsdataset/hai/master/hai-20.07/test2.csv.gz\n",
      "Resolving raw.githubusercontent.com (raw.githubusercontent.com)... 185.199.110.133, 185.199.111.133, 185.199.108.133, ...\n",
      "Connecting to raw.githubusercontent.com (raw.githubusercontent.com)|185.199.110.133|:443... connected.\n",
      "HTTP request sent, awaiting response... 200 OK\n",
      "Length: 16907509 (16M) [application/octet-stream]\n",
      "Saving to: ‘STDOUT’\n",
      "\n",
      "-                   100%[===================>]  16.12M  4.35MB/s    in 3.9s    \n",
      "\n",
      "2024-07-15 16:07:30 (4.11 MB/s) - written to stdout [16907509/16907509]\n",
      "\n",
      "--2024-07-15 16:07:31--  https://raw.githubusercontent.com/icsdataset/hai/master/hai-20.07/train1.csv.gz\n",
      "Resolving raw.githubusercontent.com (raw.githubusercontent.com)... 185.199.110.133, 185.199.111.133, 185.199.108.133, ...\n",
      "Connecting to raw.githubusercontent.com (raw.githubusercontent.com)|185.199.110.133|:443... connected.\n",
      "HTTP request sent, awaiting response... 200 OK\n",
      "Length: 35252451 (34M) [application/octet-stream]\n",
      "Saving to: ‘STDOUT’\n",
      "\n",
      "-                   100%[===================>]  33.62M  3.80MB/s    in 8.5s    \n",
      "\n",
      "2024-07-15 16:07:43 (3.94 MB/s) - written to stdout [35252451/35252451]\n",
      "\n",
      "--2024-07-15 16:07:43--  https://raw.githubusercontent.com/icsdataset/hai/master/hai-20.07/train2.csv.gz\n",
      "Resolving raw.githubusercontent.com (raw.githubusercontent.com)... 185.199.110.133, 185.199.111.133, 185.199.108.133, ...\n",
      "Connecting to raw.githubusercontent.com (raw.githubusercontent.com)|185.199.110.133|:443... connected.\n",
      "HTTP request sent, awaiting response... 200 OK\n",
      "Length: 26725939 (25M) [application/octet-stream]\n",
      "Saving to: ‘STDOUT’\n",
      "\n",
      "-                   100%[===================>]  25.49M  5.00MB/s    in 5.2s    \n",
      "\n",
      "2024-07-15 16:07:50 (4.95 MB/s) - written to stdout [26725939/26725939]\n",
      "\n"
     ]
    }
   ],
   "source": [
    "!mkdir -p ./data\n",
    "!wget -O - \"https://raw.githubusercontent.com/icsdataset/hai/master/hai-20.07/test1.csv.gz\" | gunzip > ./data/test1.csv\n",
    "!wget -O - \"https://raw.githubusercontent.com/icsdataset/hai/master/hai-20.07/test2.csv.gz\" | gunzip > ./data/test2.csv\n",
    "!wget -O - \"https://raw.githubusercontent.com/icsdataset/hai/master/hai-20.07/train1.csv.gz\" | gunzip > ./data/train1.csv\n",
    "!wget -O - \"https://raw.githubusercontent.com/icsdataset/hai/master/hai-20.07/train2.csv.gz\" | gunzip > ./data/train2.csv"
   ]
  },
  {
   "cell_type": "markdown",
   "metadata": {},
   "source": [
    "## Displaying the datasets\n",
    "\n",
    "Here, we will try to visualize the different downloaded datasets, and its metadatas."
   ]
  }
 ],
 "metadata": {
  "kernelspec": {
   "display_name": ".venv",
   "language": "python",
   "name": "python3"
  },
  "language_info": {
   "codemirror_mode": {
    "name": "ipython",
    "version": 3
   },
   "file_extension": ".py",
   "mimetype": "text/x-python",
   "name": "python",
   "nbconvert_exporter": "python",
   "pygments_lexer": "ipython3",
   "version": "3.11.2"
  }
 },
 "nbformat": 4,
 "nbformat_minor": 2
}
