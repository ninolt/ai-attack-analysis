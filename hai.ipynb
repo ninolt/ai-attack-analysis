{
 "cells": [
  {
   "cell_type": "markdown",
   "metadata": {},
   "source": [
    "# Predicting cyberattacks - HAI 20.07 dataset\n",
    "\n",
    "This Jupyter notebook explores various approaches for implementing machine learning algorithms that detects attacks in the HAI 20.07 dataset.\n",
    "\n",
    "Technical details : [here](https://github.com/icsdataset/hai/blob/master/hai_dataset_technical_details.pdf)"
   ]
  },
  {
   "cell_type": "markdown",
   "metadata": {},
   "source": [
    "## Downloading the dataset\n",
    "\n",
    "In this section, we will be looking at how to download the different CSV files, and how to convert them as pandas dataframes."
   ]
  },
  {
   "cell_type": "code",
   "execution_count": 1,
   "metadata": {},
   "outputs": [
    {
     "name": "stdout",
     "output_type": "stream",
     "text": [
      "--2024-08-22 17:09:09--  https://raw.githubusercontent.com/icsdataset/hai/master/hai-20.07/test1.csv.gz\n",
      "Resolving raw.githubusercontent.com (raw.githubusercontent.com)... 185.199.110.133, 185.199.111.133, 185.199.108.133, ...\n",
      "Connecting to raw.githubusercontent.com (raw.githubusercontent.com)|185.199.110.133|:443... connected.\n",
      "HTTP request sent, awaiting response... 200 OK\n",
      "Length: 32813703 (31M) [application/octet-stream]\n",
      "Saving to: ‘STDOUT’\n",
      "\n",
      "-                   100%[===================>]  31.29M  6.73MB/s    in 4.7s    \n",
      "\n",
      "2024-08-22 17:09:14 (6.72 MB/s) - written to stdout [32813703/32813703]\n",
      "\n",
      "--2024-08-22 17:09:14--  https://raw.githubusercontent.com/icsdataset/hai/master/hai-20.07/test2.csv.gz\n",
      "Resolving raw.githubusercontent.com (raw.githubusercontent.com)... 185.199.109.133, 185.199.108.133, 185.199.111.133, ...\n",
      "Connecting to raw.githubusercontent.com (raw.githubusercontent.com)|185.199.109.133|:443... connected.\n",
      "HTTP request sent, awaiting response... 200 OK\n",
      "Length: 16907509 (16M) [application/octet-stream]\n",
      "Saving to: ‘STDOUT’\n",
      "\n",
      "-                   100%[===================>]  16.12M  6.72MB/s    in 2.4s    \n",
      "\n",
      "2024-08-22 17:09:17 (6.72 MB/s) - written to stdout [16907509/16907509]\n",
      "\n",
      "--2024-08-22 17:09:17--  https://raw.githubusercontent.com/icsdataset/hai/master/hai-20.07/train1.csv.gz\n",
      "Resolving raw.githubusercontent.com (raw.githubusercontent.com)... 185.199.109.133, 185.199.108.133, 185.199.111.133, ...\n",
      "Connecting to raw.githubusercontent.com (raw.githubusercontent.com)|185.199.109.133|:443... connected.\n",
      "HTTP request sent, awaiting response... 200 OK\n",
      "Length: 35252451 (34M) [application/octet-stream]\n",
      "Saving to: ‘STDOUT’\n",
      "\n",
      "-                   100%[===================>]  33.62M  6.73MB/s    in 5.0s    \n",
      "\n",
      "2024-08-22 17:09:23 (6.72 MB/s) - written to stdout [35252451/35252451]\n",
      "\n",
      "--2024-08-22 17:09:23--  https://raw.githubusercontent.com/icsdataset/hai/master/hai-20.07/train2.csv.gz\n",
      "Resolving raw.githubusercontent.com (raw.githubusercontent.com)... 185.199.109.133, 185.199.108.133, 185.199.111.133, ...\n",
      "Connecting to raw.githubusercontent.com (raw.githubusercontent.com)|185.199.109.133|:443... connected.\n",
      "HTTP request sent, awaiting response... 200 OK\n",
      "Length: 26725939 (25M) [application/octet-stream]\n",
      "Saving to: ‘STDOUT’\n",
      "\n",
      "-                   100%[===================>]  25.49M  6.72MB/s    in 3.8s    \n",
      "\n",
      "2024-08-22 17:09:28 (6.72 MB/s) - written to stdout [26725939/26725939]\n",
      "\n"
     ]
    }
   ],
   "source": [
    "!mkdir -p ./data\n",
    "!wget -O - \"https://raw.githubusercontent.com/icsdataset/hai/master/hai-20.07/test1.csv.gz\" | gunzip > ./data/test1.csv\n",
    "!wget -O - \"https://raw.githubusercontent.com/icsdataset/hai/master/hai-20.07/test2.csv.gz\" | gunzip > ./data/test2.csv\n",
    "!wget -O - \"https://raw.githubusercontent.com/icsdataset/hai/master/hai-20.07/train1.csv.gz\" | gunzip > ./data/train1.csv\n",
    "!wget -O - \"https://raw.githubusercontent.com/icsdataset/hai/master/hai-20.07/train2.csv.gz\" | gunzip > ./data/train2.csv"
   ]
  },
  {
   "cell_type": "markdown",
   "metadata": {},
   "source": [
    "## Statistics about the datasets\n",
    "\n",
    "Here, we will try to visualize the different downloaded datasets, and its metadatas."
   ]
  },
  {
   "cell_type": "code",
   "execution_count": 2,
   "metadata": {
    "scrolled": true
   },
   "outputs": [
    {
     "name": "stderr",
     "output_type": "stream",
     "text": [
      "2024-08-22 17:09:29.253986: E external/local_xla/xla/stream_executor/cuda/cuda_fft.cc:485] Unable to register cuFFT factory: Attempting to register factory for plugin cuFFT when one has already been registered\n",
      "2024-08-22 17:09:29.272379: E external/local_xla/xla/stream_executor/cuda/cuda_dnn.cc:8454] Unable to register cuDNN factory: Attempting to register factory for plugin cuDNN when one has already been registered\n",
      "2024-08-22 17:09:29.277944: E external/local_xla/xla/stream_executor/cuda/cuda_blas.cc:1452] Unable to register cuBLAS factory: Attempting to register factory for plugin cuBLAS when one has already been registered\n",
      "2024-08-22 17:09:29.291736: I tensorflow/core/platform/cpu_feature_guard.cc:210] This TensorFlow binary is optimized to use available CPU instructions in performance-critical operations.\n",
      "To enable the following instructions: AVX2 FMA, in other operations, rebuild TensorFlow with the appropriate compiler flags.\n",
      "2024-08-22 17:09:30.230755: W tensorflow/compiler/tf2tensorrt/utils/py_utils.cc:38] TF-TRT Warning: Could not find TensorRT\n"
     ]
    }
   ],
   "source": [
    "import numpy as np\n",
    "import pandas as pd\n",
    "import matplotlib.pyplot as plt\n",
    "import datetime\n",
    "import collections\n",
    "\n",
    "import tensorflow as tf\n",
    "from tensorflow.keras import layers, losses\n",
    "from tensorflow.keras.models import Model\n",
    "from sklearn.model_selection import train_test_split"
   ]
  },
  {
   "cell_type": "markdown",
   "metadata": {},
   "source": [
    "Here, using a dedicated validation dataset from the training dataset itself (and not from the testing one) is due to the fact that \"normal\" data in the testing dataset may be affected by precedent attacks on the system, and thus give a very innacurate validation loss score."
   ]
  },
  {
   "cell_type": "code",
   "execution_count": 3,
   "metadata": {},
   "outputs": [],
   "source": [
    "train = []\n",
    "validation = []\n",
    "test = []\n",
    "labels = []\n",
    "\n",
    "dataset_ids = [1, 2]\n",
    "\n",
    "for dataset_id in dataset_ids:\n",
    "    train_data, validation_data = train_test_split(\n",
    "        pd.read_csv(f\"./data/train{dataset_id}.csv\", sep=\";\", index_col=\"time\", usecols=list(range(60))).values,\n",
    "        # test size => validation size in this case\n",
    "        test_size=0.1, random_state=42)\n",
    "\n",
    "    train.append(train_data)\n",
    "    validation.append(validation_data)\n",
    "    \n",
    "    test_data = pd.read_csv(f\"./data/test{dataset_id}.csv\", sep=\";\", index_col=\"time\").values\n",
    "\n",
    "    test.append(test_data[:, 0:-4])\n",
    "    labels.append(test_data[:, -4:])"
   ]
  },
  {
   "cell_type": "markdown",
   "metadata": {},
   "source": [
    "Normalize the data on [0, 1]"
   ]
  },
  {
   "cell_type": "code",
   "execution_count": 4,
   "metadata": {},
   "outputs": [
    {
     "name": "stderr",
     "output_type": "stream",
     "text": [
      "2024-08-22 17:09:42.121034: I tensorflow/core/common_runtime/gpu/gpu_device.cc:2021] Created device /job:localhost/replica:0/task:0/device:GPU:0 with 11365 MB memory:  -> device: 0, name: NVIDIA TITAN Xp, pci bus id: 0000:08:00.0, compute capability: 6.1\n",
      "2024-08-22 17:09:42.121734: I tensorflow/core/common_runtime/gpu/gpu_device.cc:2021] Created device /job:localhost/replica:0/task:0/device:GPU:1 with 11365 MB memory:  -> device: 1, name: NVIDIA TITAN Xp, pci bus id: 0000:09:00.0, compute capability: 6.1\n",
      "2024-08-22 17:09:42.122279: I tensorflow/core/common_runtime/gpu/gpu_device.cc:2021] Created device /job:localhost/replica:0/task:0/device:GPU:2 with 11365 MB memory:  -> device: 2, name: NVIDIA TITAN Xp, pci bus id: 0000:84:00.0, compute capability: 6.1\n",
      "2024-08-22 17:09:42.122880: I tensorflow/core/common_runtime/gpu/gpu_device.cc:2021] Created device /job:localhost/replica:0/task:0/device:GPU:3 with 11365 MB memory:  -> device: 3, name: NVIDIA TITAN Xp, pci bus id: 0000:88:00.0, compute capability: 6.1\n",
      "2024-08-22 17:09:42.123493: I tensorflow/core/common_runtime/gpu/gpu_device.cc:2021] Created device /job:localhost/replica:0/task:0/device:GPU:4 with 11365 MB memory:  -> device: 4, name: NVIDIA TITAN Xp, pci bus id: 0000:89:00.0, compute capability: 6.1\n"
     ]
    }
   ],
   "source": [
    "for i in range(len(dataset_ids)):\n",
    "    reduced_min = np.min(train[i], 0)\n",
    "    reduced_max = np.max(train[i], 0)\n",
    "\n",
    "    asset_range = reduced_max - reduced_min\n",
    "\n",
    "    # Normalizing while making sure there is no divison by zero\n",
    "    train[i] = np.divide((train[i] - reduced_min), asset_range, where=asset_range != 0)\n",
    "    test[i] = np.divide((test[i] - reduced_min), asset_range, where=asset_range != 0)\n",
    "    validation[i] = np.divide((validation[i] - reduced_min), asset_range, where=asset_range != 0)\n",
    "    \n",
    "    train[i] = tf.cast(train[i], tf.float32)\n",
    "    test[i] = tf.cast(test[i], tf.float32)\n",
    "    validation[i] = tf.cast(validation[i], tf.float32)"
   ]
  },
  {
   "cell_type": "markdown",
   "metadata": {},
   "source": [
    "## Build an anomaly detection model\n",
    "\n",
    "Here the goal is to mesure at a given time and for a given sensor how abnormal its value is compared to its normal behaviour.\n",
    "\n",
    "For this, we are going to use an autoencoder model. The goal is simple : we train the model on normal training data, and the model is trying to reproduce the normal data. The hypothesis is that the model will missbehave when given abnormal data (for example during an attack on the system).\n",
    "\n",
    "In this case, we will be building multiple models in order to get a better view of the results."
   ]
  },
  {
   "cell_type": "code",
   "execution_count": 5,
   "metadata": {},
   "outputs": [
    {
     "name": "stdout",
     "output_type": "stream",
     "text": [
      "Epoch 1/10\n"
     ]
    },
    {
     "name": "stderr",
     "output_type": "stream",
     "text": [
      "WARNING: All log messages before absl::InitializeLog() is called are written to STDERR\n",
      "I0000 00:00:1724314184.550104 2264946 service.cc:146] XLA service 0x7fa6c4008560 initialized for platform CUDA (this does not guarantee that XLA will be used). Devices:\n",
      "I0000 00:00:1724314184.550141 2264946 service.cc:154]   StreamExecutor device (0): NVIDIA TITAN Xp, Compute Capability 6.1\n",
      "I0000 00:00:1724314184.550145 2264946 service.cc:154]   StreamExecutor device (1): NVIDIA TITAN Xp, Compute Capability 6.1\n",
      "I0000 00:00:1724314184.550148 2264946 service.cc:154]   StreamExecutor device (2): NVIDIA TITAN Xp, Compute Capability 6.1\n",
      "I0000 00:00:1724314184.550151 2264946 service.cc:154]   StreamExecutor device (3): NVIDIA TITAN Xp, Compute Capability 6.1\n",
      "I0000 00:00:1724314184.550153 2264946 service.cc:154]   StreamExecutor device (4): NVIDIA TITAN Xp, Compute Capability 6.1\n",
      "2024-08-22 17:09:44.597233: I tensorflow/compiler/mlir/tensorflow/utils/dump_mlir_util.cc:268] disabling MLIR crash reproducer, set env var `MLIR_CRASH_REPRODUCER_DIRECTORY` to enable.\n",
      "2024-08-22 17:09:46.953040: I external/local_xla/xla/stream_executor/cuda/cuda_dnn.cc:531] Loaded cuDNN version 8907\n"
     ]
    },
    {
     "name": "stdout",
     "output_type": "stream",
     "text": [
      "\u001b[1m 71/545\u001b[0m \u001b[32m━━\u001b[0m\u001b[37m━━━━━━━━━━━━━━━━━━\u001b[0m \u001b[1m1s\u001b[0m 2ms/step - loss: 0.2573"
     ]
    },
    {
     "name": "stderr",
     "output_type": "stream",
     "text": [
      "I0000 00:00:1724314187.884712 2264946 device_compiler.h:188] Compiled cluster using XLA!  This line is logged at most once for the lifetime of the process.\n"
     ]
    },
    {
     "name": "stdout",
     "output_type": "stream",
     "text": [
      "\u001b[1m545/545\u001b[0m \u001b[32m━━━━━━━━━━━━━━━━━━━━\u001b[0m\u001b[37m\u001b[0m \u001b[1m8s\u001b[0m 6ms/step - loss: 0.1447 - val_loss: 0.0520\n",
      "Epoch 2/10\n",
      "\u001b[1m545/545\u001b[0m \u001b[32m━━━━━━━━━━━━━━━━━━━━\u001b[0m\u001b[37m\u001b[0m \u001b[1m1s\u001b[0m 2ms/step - loss: 0.0477 - val_loss: 0.0403\n",
      "Epoch 3/10\n",
      "\u001b[1m545/545\u001b[0m \u001b[32m━━━━━━━━━━━━━━━━━━━━\u001b[0m\u001b[37m\u001b[0m \u001b[1m1s\u001b[0m 2ms/step - loss: 0.0382 - val_loss: 0.0350\n",
      "Epoch 4/10\n",
      "\u001b[1m545/545\u001b[0m \u001b[32m━━━━━━━━━━━━━━━━━━━━\u001b[0m\u001b[37m\u001b[0m \u001b[1m1s\u001b[0m 2ms/step - loss: 0.0344 - val_loss: 0.0328\n",
      "Epoch 5/10\n",
      "\u001b[1m545/545\u001b[0m \u001b[32m━━━━━━━━━━━━━━━━━━━━\u001b[0m\u001b[37m\u001b[0m \u001b[1m1s\u001b[0m 2ms/step - loss: 0.0323 - val_loss: 0.0320\n",
      "Epoch 6/10\n",
      "\u001b[1m545/545\u001b[0m \u001b[32m━━━━━━━━━━━━━━━━━━━━\u001b[0m\u001b[37m\u001b[0m \u001b[1m1s\u001b[0m 2ms/step - loss: 0.0313 - val_loss: 0.0297\n",
      "Epoch 7/10\n",
      "\u001b[1m545/545\u001b[0m \u001b[32m━━━━━━━━━━━━━━━━━━━━\u001b[0m\u001b[37m\u001b[0m \u001b[1m1s\u001b[0m 2ms/step - loss: 0.0293 - val_loss: 0.0283\n",
      "Epoch 8/10\n",
      "\u001b[1m545/545\u001b[0m \u001b[32m━━━━━━━━━━━━━━━━━━━━\u001b[0m\u001b[37m\u001b[0m \u001b[1m1s\u001b[0m 2ms/step - loss: 0.0279 - val_loss: 0.0267\n",
      "Epoch 9/10\n",
      "\u001b[1m545/545\u001b[0m \u001b[32m━━━━━━━━━━━━━━━━━━━━\u001b[0m\u001b[37m\u001b[0m \u001b[1m1s\u001b[0m 2ms/step - loss: 0.0259 - val_loss: 0.0248\n",
      "Epoch 10/10\n",
      "\u001b[1m545/545\u001b[0m \u001b[32m━━━━━━━━━━━━━━━━━━━━\u001b[0m\u001b[37m\u001b[0m \u001b[1m1s\u001b[0m 2ms/step - loss: 0.0244 - val_loss: 0.0241\n",
      "Epoch 1/10\n",
      "\u001b[1m424/424\u001b[0m \u001b[32m━━━━━━━━━━━━━━━━━━━━\u001b[0m\u001b[37m\u001b[0m \u001b[1m4s\u001b[0m 6ms/step - loss: 0.1734 - val_loss: 0.0619\n",
      "Epoch 2/10\n",
      "\u001b[1m424/424\u001b[0m \u001b[32m━━━━━━━━━━━━━━━━━━━━\u001b[0m\u001b[37m\u001b[0m \u001b[1m1s\u001b[0m 2ms/step - loss: 0.0519 - val_loss: 0.0387\n",
      "Epoch 3/10\n",
      "\u001b[1m424/424\u001b[0m \u001b[32m━━━━━━━━━━━━━━━━━━━━\u001b[0m\u001b[37m\u001b[0m \u001b[1m1s\u001b[0m 2ms/step - loss: 0.0377 - val_loss: 0.0354\n",
      "Epoch 4/10\n",
      "\u001b[1m424/424\u001b[0m \u001b[32m━━━━━━━━━━━━━━━━━━━━\u001b[0m\u001b[37m\u001b[0m \u001b[1m1s\u001b[0m 2ms/step - loss: 0.0350 - val_loss: 0.0339\n",
      "Epoch 5/10\n",
      "\u001b[1m424/424\u001b[0m \u001b[32m━━━━━━━━━━━━━━━━━━━━\u001b[0m\u001b[37m\u001b[0m \u001b[1m1s\u001b[0m 2ms/step - loss: 0.0335 - val_loss: 0.0326\n",
      "Epoch 6/10\n",
      "\u001b[1m424/424\u001b[0m \u001b[32m━━━━━━━━━━━━━━━━━━━━\u001b[0m\u001b[37m\u001b[0m \u001b[1m1s\u001b[0m 2ms/step - loss: 0.0321 - val_loss: 0.0307\n",
      "Epoch 7/10\n",
      "\u001b[1m424/424\u001b[0m \u001b[32m━━━━━━━━━━━━━━━━━━━━\u001b[0m\u001b[37m\u001b[0m \u001b[1m1s\u001b[0m 2ms/step - loss: 0.0302 - val_loss: 0.0296\n",
      "Epoch 8/10\n",
      "\u001b[1m424/424\u001b[0m \u001b[32m━━━━━━━━━━━━━━━━━━━━\u001b[0m\u001b[37m\u001b[0m \u001b[1m1s\u001b[0m 3ms/step - loss: 0.0294 - val_loss: 0.0289\n",
      "Epoch 9/10\n",
      "\u001b[1m424/424\u001b[0m \u001b[32m━━━━━━━━━━━━━━━━━━━━\u001b[0m\u001b[37m\u001b[0m \u001b[1m1s\u001b[0m 2ms/step - loss: 0.0286 - val_loss: 0.0280\n",
      "Epoch 10/10\n",
      "\u001b[1m424/424\u001b[0m \u001b[32m━━━━━━━━━━━━━━━━━━━━\u001b[0m\u001b[37m\u001b[0m \u001b[1m1s\u001b[0m 2ms/step - loss: 0.0277 - val_loss: 0.0259\n",
      "Epoch 1/10\n",
      "\u001b[1m545/545\u001b[0m \u001b[32m━━━━━━━━━━━━━━━━━━━━\u001b[0m\u001b[37m\u001b[0m \u001b[1m4s\u001b[0m 5ms/step - loss: 0.1445 - val_loss: 0.0605\n",
      "Epoch 2/10\n",
      "\u001b[1m545/545\u001b[0m \u001b[32m━━━━━━━━━━━━━━━━━━━━\u001b[0m\u001b[37m\u001b[0m \u001b[1m1s\u001b[0m 2ms/step - loss: 0.0540 - val_loss: 0.0442\n",
      "Epoch 3/10\n",
      "\u001b[1m545/545\u001b[0m \u001b[32m━━━━━━━━━━━━━━━━━━━━\u001b[0m\u001b[37m\u001b[0m \u001b[1m1s\u001b[0m 2ms/step - loss: 0.0428 - val_loss: 0.0385\n",
      "Epoch 4/10\n",
      "\u001b[1m545/545\u001b[0m \u001b[32m━━━━━━━━━━━━━━━━━━━━\u001b[0m\u001b[37m\u001b[0m \u001b[1m1s\u001b[0m 2ms/step - loss: 0.0360 - val_loss: 0.0323\n",
      "Epoch 5/10\n",
      "\u001b[1m545/545\u001b[0m \u001b[32m━━━━━━━━━━━━━━━━━━━━\u001b[0m\u001b[37m\u001b[0m \u001b[1m1s\u001b[0m 2ms/step - loss: 0.0317 - val_loss: 0.0304\n",
      "Epoch 6/10\n",
      "\u001b[1m545/545\u001b[0m \u001b[32m━━━━━━━━━━━━━━━━━━━━\u001b[0m\u001b[37m\u001b[0m \u001b[1m1s\u001b[0m 2ms/step - loss: 0.0300 - val_loss: 0.0289\n",
      "Epoch 7/10\n",
      "\u001b[1m545/545\u001b[0m \u001b[32m━━━━━━━━━━━━━━━━━━━━\u001b[0m\u001b[37m\u001b[0m \u001b[1m1s\u001b[0m 2ms/step - loss: 0.0286 - val_loss: 0.0281\n",
      "Epoch 8/10\n",
      "\u001b[1m545/545\u001b[0m \u001b[32m━━━━━━━━━━━━━━━━━━━━\u001b[0m\u001b[37m\u001b[0m \u001b[1m1s\u001b[0m 2ms/step - loss: 0.0277 - val_loss: 0.0272\n",
      "Epoch 9/10\n",
      "\u001b[1m545/545\u001b[0m \u001b[32m━━━━━━━━━━━━━━━━━━━━\u001b[0m\u001b[37m\u001b[0m \u001b[1m1s\u001b[0m 2ms/step - loss: 0.0270 - val_loss: 0.0264\n",
      "Epoch 10/10\n",
      "\u001b[1m545/545\u001b[0m \u001b[32m━━━━━━━━━━━━━━━━━━━━\u001b[0m\u001b[37m\u001b[0m \u001b[1m1s\u001b[0m 2ms/step - loss: 0.0262 - val_loss: 0.0260\n",
      "Epoch 1/10\n",
      "\u001b[1m424/424\u001b[0m \u001b[32m━━━━━━━━━━━━━━━━━━━━\u001b[0m\u001b[37m\u001b[0m \u001b[1m4s\u001b[0m 5ms/step - loss: 0.1568 - val_loss: 0.0551\n",
      "Epoch 2/10\n",
      "\u001b[1m424/424\u001b[0m \u001b[32m━━━━━━━━━━━━━━━━━━━━\u001b[0m\u001b[37m\u001b[0m \u001b[1m1s\u001b[0m 2ms/step - loss: 0.0494 - val_loss: 0.0360\n",
      "Epoch 3/10\n",
      "\u001b[1m424/424\u001b[0m \u001b[32m━━━━━━━━━━━━━━━━━━━━\u001b[0m\u001b[37m\u001b[0m \u001b[1m1s\u001b[0m 3ms/step - loss: 0.0336 - val_loss: 0.0286\n",
      "Epoch 4/10\n",
      "\u001b[1m424/424\u001b[0m \u001b[32m━━━━━━━━━━━━━━━━━━━━\u001b[0m\u001b[37m\u001b[0m \u001b[1m1s\u001b[0m 2ms/step - loss: 0.0281 - val_loss: 0.0273\n",
      "Epoch 5/10\n",
      "\u001b[1m424/424\u001b[0m \u001b[32m━━━━━━━━━━━━━━━━━━━━\u001b[0m\u001b[37m\u001b[0m \u001b[1m1s\u001b[0m 2ms/step - loss: 0.0271 - val_loss: 0.0267\n",
      "Epoch 6/10\n",
      "\u001b[1m424/424\u001b[0m \u001b[32m━━━━━━━━━━━━━━━━━━━━\u001b[0m\u001b[37m\u001b[0m \u001b[1m1s\u001b[0m 2ms/step - loss: 0.0266 - val_loss: 0.0262\n",
      "Epoch 7/10\n",
      "\u001b[1m424/424\u001b[0m \u001b[32m━━━━━━━━━━━━━━━━━━━━\u001b[0m\u001b[37m\u001b[0m \u001b[1m1s\u001b[0m 2ms/step - loss: 0.0261 - val_loss: 0.0258\n",
      "Epoch 8/10\n",
      "\u001b[1m424/424\u001b[0m \u001b[32m━━━━━━━━━━━━━━━━━━━━\u001b[0m\u001b[37m\u001b[0m \u001b[1m1s\u001b[0m 2ms/step - loss: 0.0257 - val_loss: 0.0253\n",
      "Epoch 9/10\n",
      "\u001b[1m424/424\u001b[0m \u001b[32m━━━━━━━━━━━━━━━━━━━━\u001b[0m\u001b[37m\u001b[0m \u001b[1m1s\u001b[0m 2ms/step - loss: 0.0251 - val_loss: 0.0246\n",
      "Epoch 10/10\n",
      "\u001b[1m424/424\u001b[0m \u001b[32m━━━━━━━━━━━━━━━━━━━━\u001b[0m\u001b[37m\u001b[0m \u001b[1m1s\u001b[0m 2ms/step - loss: 0.0243 - val_loss: 0.0234\n",
      "Epoch 1/10\n",
      "\u001b[1m545/545\u001b[0m \u001b[32m━━━━━━━━━━━━━━━━━━━━\u001b[0m\u001b[37m\u001b[0m \u001b[1m4s\u001b[0m 4ms/step - loss: 0.1516 - val_loss: 0.0648\n",
      "Epoch 2/10\n",
      "\u001b[1m545/545\u001b[0m \u001b[32m━━━━━━━━━━━━━━━━━━━━\u001b[0m\u001b[37m\u001b[0m \u001b[1m1s\u001b[0m 2ms/step - loss: 0.0569 - val_loss: 0.0419\n",
      "Epoch 3/10\n",
      "\u001b[1m545/545\u001b[0m \u001b[32m━━━━━━━━━━━━━━━━━━━━\u001b[0m\u001b[37m\u001b[0m \u001b[1m1s\u001b[0m 2ms/step - loss: 0.0408 - val_loss: 0.0384\n",
      "Epoch 4/10\n",
      "\u001b[1m545/545\u001b[0m \u001b[32m━━━━━━━━━━━━━━━━━━━━\u001b[0m\u001b[37m\u001b[0m \u001b[1m1s\u001b[0m 2ms/step - loss: 0.0376 - val_loss: 0.0358\n",
      "Epoch 5/10\n",
      "\u001b[1m545/545\u001b[0m \u001b[32m━━━━━━━━━━━━━━━━━━━━\u001b[0m\u001b[37m\u001b[0m \u001b[1m1s\u001b[0m 2ms/step - loss: 0.0350 - val_loss: 0.0334\n",
      "Epoch 6/10\n",
      "\u001b[1m545/545\u001b[0m \u001b[32m━━━━━━━━━━━━━━━━━━━━\u001b[0m\u001b[37m\u001b[0m \u001b[1m1s\u001b[0m 2ms/step - loss: 0.0327 - val_loss: 0.0317\n",
      "Epoch 7/10\n",
      "\u001b[1m545/545\u001b[0m \u001b[32m━━━━━━━━━━━━━━━━━━━━\u001b[0m\u001b[37m\u001b[0m \u001b[1m1s\u001b[0m 2ms/step - loss: 0.0312 - val_loss: 0.0305\n",
      "Epoch 8/10\n",
      "\u001b[1m545/545\u001b[0m \u001b[32m━━━━━━━━━━━━━━━━━━━━\u001b[0m\u001b[37m\u001b[0m \u001b[1m1s\u001b[0m 2ms/step - loss: 0.0303 - val_loss: 0.0299\n",
      "Epoch 9/10\n",
      "\u001b[1m545/545\u001b[0m \u001b[32m━━━━━━━━━━━━━━━━━━━━\u001b[0m\u001b[37m\u001b[0m \u001b[1m1s\u001b[0m 2ms/step - loss: 0.0296 - val_loss: 0.0290\n",
      "Epoch 10/10\n",
      "\u001b[1m545/545\u001b[0m \u001b[32m━━━━━━━━━━━━━━━━━━━━\u001b[0m\u001b[37m\u001b[0m \u001b[1m1s\u001b[0m 2ms/step - loss: 0.0289 - val_loss: 0.0286\n",
      "Epoch 1/10\n",
      "\u001b[1m424/424\u001b[0m \u001b[32m━━━━━━━━━━━━━━━━━━━━\u001b[0m\u001b[37m\u001b[0m \u001b[1m4s\u001b[0m 5ms/step - loss: 0.1595 - val_loss: 0.0479\n",
      "Epoch 2/10\n",
      "\u001b[1m424/424\u001b[0m \u001b[32m━━━━━━━━━━━━━━━━━━━━\u001b[0m\u001b[37m\u001b[0m \u001b[1m1s\u001b[0m 2ms/step - loss: 0.0424 - val_loss: 0.0346\n",
      "Epoch 3/10\n",
      "\u001b[1m424/424\u001b[0m \u001b[32m━━━━━━━━━━━━━━━━━━━━\u001b[0m\u001b[37m\u001b[0m \u001b[1m1s\u001b[0m 2ms/step - loss: 0.0330 - val_loss: 0.0296\n",
      "Epoch 4/10\n",
      "\u001b[1m424/424\u001b[0m \u001b[32m━━━━━━━━━━━━━━━━━━━━\u001b[0m\u001b[37m\u001b[0m \u001b[1m1s\u001b[0m 2ms/step - loss: 0.0290 - val_loss: 0.0276\n",
      "Epoch 5/10\n",
      "\u001b[1m424/424\u001b[0m \u001b[32m━━━━━━━━━━━━━━━━━━━━\u001b[0m\u001b[37m\u001b[0m \u001b[1m1s\u001b[0m 2ms/step - loss: 0.0274 - val_loss: 0.0269\n",
      "Epoch 6/10\n",
      "\u001b[1m424/424\u001b[0m \u001b[32m━━━━━━━━━━━━━━━━━━━━\u001b[0m\u001b[37m\u001b[0m \u001b[1m1s\u001b[0m 2ms/step - loss: 0.0266 - val_loss: 0.0260\n",
      "Epoch 7/10\n",
      "\u001b[1m424/424\u001b[0m \u001b[32m━━━━━━━━━━━━━━━━━━━━\u001b[0m\u001b[37m\u001b[0m \u001b[1m1s\u001b[0m 2ms/step - loss: 0.0259 - val_loss: 0.0254\n",
      "Epoch 8/10\n",
      "\u001b[1m424/424\u001b[0m \u001b[32m━━━━━━━━━━━━━━━━━━━━\u001b[0m\u001b[37m\u001b[0m \u001b[1m1s\u001b[0m 2ms/step - loss: 0.0252 - val_loss: 0.0249\n",
      "Epoch 9/10\n",
      "\u001b[1m424/424\u001b[0m \u001b[32m━━━━━━━━━━━━━━━━━━━━\u001b[0m\u001b[37m\u001b[0m \u001b[1m1s\u001b[0m 2ms/step - loss: 0.0246 - val_loss: 0.0242\n",
      "Epoch 10/10\n",
      "\u001b[1m424/424\u001b[0m \u001b[32m━━━━━━━━━━━━━━━━━━━━\u001b[0m\u001b[37m\u001b[0m \u001b[1m1s\u001b[0m 2ms/step - loss: 0.0241 - val_loss: 0.0236\n",
      "Epoch 1/10\n",
      "\u001b[1m545/545\u001b[0m \u001b[32m━━━━━━━━━━━━━━━━━━━━\u001b[0m\u001b[37m\u001b[0m \u001b[1m4s\u001b[0m 4ms/step - loss: 0.1539 - val_loss: 0.0569\n",
      "Epoch 2/10\n",
      "\u001b[1m545/545\u001b[0m \u001b[32m━━━━━━━━━━━━━━━━━━━━\u001b[0m\u001b[37m\u001b[0m \u001b[1m1s\u001b[0m 2ms/step - loss: 0.0527 - val_loss: 0.0439\n",
      "Epoch 3/10\n",
      "\u001b[1m545/545\u001b[0m \u001b[32m━━━━━━━━━━━━━━━━━━━━\u001b[0m\u001b[37m\u001b[0m \u001b[1m1s\u001b[0m 2ms/step - loss: 0.0426 - val_loss: 0.0401\n",
      "Epoch 4/10\n",
      "\u001b[1m545/545\u001b[0m \u001b[32m━━━━━━━━━━━━━━━━━━━━\u001b[0m\u001b[37m\u001b[0m \u001b[1m1s\u001b[0m 2ms/step - loss: 0.0389 - val_loss: 0.0353\n",
      "Epoch 5/10\n",
      "\u001b[1m545/545\u001b[0m \u001b[32m━━━━━━━━━━━━━━━━━━━━\u001b[0m\u001b[37m\u001b[0m \u001b[1m1s\u001b[0m 2ms/step - loss: 0.0345 - val_loss: 0.0334\n",
      "Epoch 6/10\n",
      "\u001b[1m545/545\u001b[0m \u001b[32m━━━━━━━━━━━━━━━━━━━━\u001b[0m\u001b[37m\u001b[0m \u001b[1m1s\u001b[0m 2ms/step - loss: 0.0331 - val_loss: 0.0325\n",
      "Epoch 7/10\n",
      "\u001b[1m545/545\u001b[0m \u001b[32m━━━━━━━━━━━━━━━━━━━━\u001b[0m\u001b[37m\u001b[0m \u001b[1m1s\u001b[0m 2ms/step - loss: 0.0323 - val_loss: 0.0318\n",
      "Epoch 8/10\n",
      "\u001b[1m545/545\u001b[0m \u001b[32m━━━━━━━━━━━━━━━━━━━━\u001b[0m\u001b[37m\u001b[0m \u001b[1m1s\u001b[0m 2ms/step - loss: 0.0316 - val_loss: 0.0310\n",
      "Epoch 9/10\n",
      "\u001b[1m545/545\u001b[0m \u001b[32m━━━━━━━━━━━━━━━━━━━━\u001b[0m\u001b[37m\u001b[0m \u001b[1m1s\u001b[0m 2ms/step - loss: 0.0307 - val_loss: 0.0299\n",
      "Epoch 10/10\n",
      "\u001b[1m545/545\u001b[0m \u001b[32m━━━━━━━━━━━━━━━━━━━━\u001b[0m\u001b[37m\u001b[0m \u001b[1m1s\u001b[0m 3ms/step - loss: 0.0295 - val_loss: 0.0288\n",
      "Epoch 1/10\n",
      "\u001b[1m424/424\u001b[0m \u001b[32m━━━━━━━━━━━━━━━━━━━━\u001b[0m\u001b[37m\u001b[0m \u001b[1m4s\u001b[0m 5ms/step - loss: 0.1661 - val_loss: 0.0574\n",
      "Epoch 2/10\n",
      "\u001b[1m424/424\u001b[0m \u001b[32m━━━━━━━━━━━━━━━━━━━━\u001b[0m\u001b[37m\u001b[0m \u001b[1m1s\u001b[0m 2ms/step - loss: 0.0515 - val_loss: 0.0427\n",
      "Epoch 3/10\n",
      "\u001b[1m424/424\u001b[0m \u001b[32m━━━━━━━━━━━━━━━━━━━━\u001b[0m\u001b[37m\u001b[0m \u001b[1m1s\u001b[0m 2ms/step - loss: 0.0420 - val_loss: 0.0385\n",
      "Epoch 4/10\n",
      "\u001b[1m424/424\u001b[0m \u001b[32m━━━━━━━━━━━━━━━━━━━━\u001b[0m\u001b[37m\u001b[0m \u001b[1m1s\u001b[0m 2ms/step - loss: 0.0371 - val_loss: 0.0344\n",
      "Epoch 5/10\n",
      "\u001b[1m424/424\u001b[0m \u001b[32m━━━━━━━━━━━━━━━━━━━━\u001b[0m\u001b[37m\u001b[0m \u001b[1m1s\u001b[0m 2ms/step - loss: 0.0341 - val_loss: 0.0330\n",
      "Epoch 6/10\n",
      "\u001b[1m424/424\u001b[0m \u001b[32m━━━━━━━━━━━━━━━━━━━━\u001b[0m\u001b[37m\u001b[0m \u001b[1m1s\u001b[0m 2ms/step - loss: 0.0324 - val_loss: 0.0305\n",
      "Epoch 7/10\n",
      "\u001b[1m424/424\u001b[0m \u001b[32m━━━━━━━━━━━━━━━━━━━━\u001b[0m\u001b[37m\u001b[0m \u001b[1m1s\u001b[0m 2ms/step - loss: 0.0301 - val_loss: 0.0291\n",
      "Epoch 8/10\n",
      "\u001b[1m424/424\u001b[0m \u001b[32m━━━━━━━━━━━━━━━━━━━━\u001b[0m\u001b[37m\u001b[0m \u001b[1m1s\u001b[0m 2ms/step - loss: 0.0288 - val_loss: 0.0277\n",
      "Epoch 9/10\n",
      "\u001b[1m424/424\u001b[0m \u001b[32m━━━━━━━━━━━━━━━━━━━━\u001b[0m\u001b[37m\u001b[0m \u001b[1m1s\u001b[0m 2ms/step - loss: 0.0274 - val_loss: 0.0266\n",
      "Epoch 10/10\n",
      "\u001b[1m424/424\u001b[0m \u001b[32m━━━━━━━━━━━━━━━━━━━━\u001b[0m\u001b[37m\u001b[0m \u001b[1m1s\u001b[0m 2ms/step - loss: 0.0263 - val_loss: 0.0260\n",
      "Epoch 1/10\n",
      "\u001b[1m545/545\u001b[0m \u001b[32m━━━━━━━━━━━━━━━━━━━━\u001b[0m\u001b[37m\u001b[0m \u001b[1m4s\u001b[0m 5ms/step - loss: 0.1525 - val_loss: 0.0517\n",
      "Epoch 2/10\n",
      "\u001b[1m545/545\u001b[0m \u001b[32m━━━━━━━━━━━━━━━━━━━━\u001b[0m\u001b[37m\u001b[0m \u001b[1m1s\u001b[0m 2ms/step - loss: 0.0442 - val_loss: 0.0343\n",
      "Epoch 3/10\n",
      "\u001b[1m545/545\u001b[0m \u001b[32m━━━━━━━━━━━━━━━━━━━━\u001b[0m\u001b[37m\u001b[0m \u001b[1m1s\u001b[0m 2ms/step - loss: 0.0332 - val_loss: 0.0310\n",
      "Epoch 4/10\n",
      "\u001b[1m545/545\u001b[0m \u001b[32m━━━━━━━━━━━━━━━━━━━━\u001b[0m\u001b[37m\u001b[0m \u001b[1m1s\u001b[0m 2ms/step - loss: 0.0300 - val_loss: 0.0284\n",
      "Epoch 5/10\n",
      "\u001b[1m545/545\u001b[0m \u001b[32m━━━━━━━━━━━━━━━━━━━━\u001b[0m\u001b[37m\u001b[0m \u001b[1m1s\u001b[0m 2ms/step - loss: 0.0279 - val_loss: 0.0274\n",
      "Epoch 6/10\n",
      "\u001b[1m545/545\u001b[0m \u001b[32m━━━━━━━━━━━━━━━━━━━━\u001b[0m\u001b[37m\u001b[0m \u001b[1m1s\u001b[0m 2ms/step - loss: 0.0269 - val_loss: 0.0265\n",
      "Epoch 7/10\n",
      "\u001b[1m545/545\u001b[0m \u001b[32m━━━━━━━━━━━━━━━━━━━━\u001b[0m\u001b[37m\u001b[0m \u001b[1m1s\u001b[0m 2ms/step - loss: 0.0261 - val_loss: 0.0256\n",
      "Epoch 8/10\n",
      "\u001b[1m545/545\u001b[0m \u001b[32m━━━━━━━━━━━━━━━━━━━━\u001b[0m\u001b[37m\u001b[0m \u001b[1m1s\u001b[0m 2ms/step - loss: 0.0253 - val_loss: 0.0249\n",
      "Epoch 9/10\n",
      "\u001b[1m545/545\u001b[0m \u001b[32m━━━━━━━━━━━━━━━━━━━━\u001b[0m\u001b[37m\u001b[0m \u001b[1m1s\u001b[0m 2ms/step - loss: 0.0245 - val_loss: 0.0240\n",
      "Epoch 10/10\n",
      "\u001b[1m545/545\u001b[0m \u001b[32m━━━━━━━━━━━━━━━━━━━━\u001b[0m\u001b[37m\u001b[0m \u001b[1m1s\u001b[0m 2ms/step - loss: 0.0239 - val_loss: 0.0237\n",
      "Epoch 1/10\n",
      "\u001b[1m424/424\u001b[0m \u001b[32m━━━━━━━━━━━━━━━━━━━━\u001b[0m\u001b[37m\u001b[0m \u001b[1m4s\u001b[0m 5ms/step - loss: 0.1623 - val_loss: 0.0557\n",
      "Epoch 2/10\n",
      "\u001b[1m424/424\u001b[0m \u001b[32m━━━━━━━━━━━━━━━━━━━━\u001b[0m\u001b[37m\u001b[0m \u001b[1m1s\u001b[0m 2ms/step - loss: 0.0490 - val_loss: 0.0379\n",
      "Epoch 3/10\n",
      "\u001b[1m424/424\u001b[0m \u001b[32m━━━━━━━━━━━━━━━━━━━━\u001b[0m\u001b[37m\u001b[0m \u001b[1m1s\u001b[0m 2ms/step - loss: 0.0365 - val_loss: 0.0347\n",
      "Epoch 4/10\n",
      "\u001b[1m424/424\u001b[0m \u001b[32m━━━━━━━━━━━━━━━━━━━━\u001b[0m\u001b[37m\u001b[0m \u001b[1m1s\u001b[0m 2ms/step - loss: 0.0341 - val_loss: 0.0318\n",
      "Epoch 5/10\n",
      "\u001b[1m424/424\u001b[0m \u001b[32m━━━━━━━━━━━━━━━━━━━━\u001b[0m\u001b[37m\u001b[0m \u001b[1m1s\u001b[0m 2ms/step - loss: 0.0310 - val_loss: 0.0298\n",
      "Epoch 6/10\n",
      "\u001b[1m424/424\u001b[0m \u001b[32m━━━━━━━━━━━━━━━━━━━━\u001b[0m\u001b[37m\u001b[0m \u001b[1m1s\u001b[0m 2ms/step - loss: 0.0296 - val_loss: 0.0291\n",
      "Epoch 7/10\n",
      "\u001b[1m424/424\u001b[0m \u001b[32m━━━━━━━━━━━━━━━━━━━━\u001b[0m\u001b[37m\u001b[0m \u001b[1m1s\u001b[0m 2ms/step - loss: 0.0289 - val_loss: 0.0283\n",
      "Epoch 8/10\n",
      "\u001b[1m424/424\u001b[0m \u001b[32m━━━━━━━━━━━━━━━━━━━━\u001b[0m\u001b[37m\u001b[0m \u001b[1m1s\u001b[0m 2ms/step - loss: 0.0281 - val_loss: 0.0270\n",
      "Epoch 9/10\n",
      "\u001b[1m424/424\u001b[0m \u001b[32m━━━━━━━━━━━━━━━━━━━━\u001b[0m\u001b[37m\u001b[0m \u001b[1m1s\u001b[0m 2ms/step - loss: 0.0268 - val_loss: 0.0262\n",
      "Epoch 10/10\n",
      "\u001b[1m424/424\u001b[0m \u001b[32m━━━━━━━━━━━━━━━━━━━━\u001b[0m\u001b[37m\u001b[0m \u001b[1m1s\u001b[0m 2ms/step - loss: 0.0262 - val_loss: 0.0259\n"
     ]
    }
   ],
   "source": [
    "class AttackDetectionModel(Model):\n",
    "    def __init__(self, layers_sizes):\n",
    "        super(AttackDetectionModel, self).__init__()\n",
    "\n",
    "        # Layers sizes : [Input/Ouput size, hidden layer, Bottleneck size]\n",
    "        # Only one hidden layer because of the small number of sensors\n",
    "        \n",
    "        self.encoder = tf.keras.Sequential([\n",
    "            layers.Dense(layers_sizes[1], activation=\"relu\"), # Encoder hidden layer\n",
    "            layers.Dense(layers_sizes[2], activation=\"relu\")  # Bottleneck (lower-dimensionnal representation)\n",
    "        ])\n",
    "\n",
    "        self.decoder = tf.keras.Sequential([\n",
    "            layers.Dense(layers_sizes[1], activation=\"relu\"), # Decoder hidden layer\n",
    "            layers.Dense(layers_sizes[0], activation=\"sigmoid\")  # Output of the model\n",
    "        ])\n",
    "\n",
    "    def call(self, sensors):\n",
    "        encoded = self.encoder(sensors)\n",
    "        decoded = self.decoder(encoded)\n",
    "        return decoded\n",
    "\n",
    "models = []\n",
    "# Compare the results from different models\n",
    "number_models = 5\n",
    "\n",
    "# models => list of X groups of models => multiple models (two for the two datasets) => model + history\n",
    "\n",
    "for i in range(number_models):\n",
    "    models.append([])\n",
    "    # Each training dataset has different schedule routines, and thus needs to be trained on his own\n",
    "    for j in range(len(dataset_ids)):\n",
    "        models[i].append({})\n",
    "        models[i][j][\"model\"] = AttackDetectionModel([train[0].shape[1], 35, 20])\n",
    "        models[i][j][\"model\"].compile(optimizer='adam', loss='mae')\n",
    "        models[i][j][\"history\"] = models[i][j][\"model\"].fit(train[j], train[j],\n",
    "                  epochs=10,\n",
    "                  batch_size=512,\n",
    "                  validation_data=(validation[j], validation[j]),\n",
    "                  shuffle=True)"
   ]
  },
  {
   "cell_type": "markdown",
   "metadata": {},
   "source": [
    "Training and validation loss of the first group of models as an example"
   ]
  },
  {
   "cell_type": "code",
   "execution_count": 6,
   "metadata": {},
   "outputs": [
    {
     "data": {
      "image/png": "[encoded data removed]",
      "text/plain": [
       "<Figure size 640x480 with 1 Axes>"
      ]
     },
     "metadata": {},
     "output_type": "display_data"
    },
    {
     "data": {
      "image/png": "[encoded data removed]",
      "text/plain": [
       "<Figure size 640x480 with 1 Axes>"
      ]
     },
     "metadata": {},
     "output_type": "display_data"
    }
   ],
   "source": [
    "for i in range(len(dataset_ids)):\n",
    "    plt.plot(models[0][i][\"history\"].history[\"loss\"], label=\"Training Loss\")\n",
    "    plt.plot(models[0][i][\"history\"].history[\"val_loss\"], label=\"Validation Loss\")\n",
    "    plt.legend()\n",
    "    plt.show()"
   ]
  },
  {
   "cell_type": "markdown",
   "metadata": {},
   "source": [
    "Getting every reconstructions of the testing data from the models"
   ]
  },
  {
   "cell_type": "code",
   "execution_count": 7,
   "metadata": {},
   "outputs": [
    {
     "name": "stdout",
     "output_type": "stream",
     "text": [
      "\u001b[1m9113/9113\u001b[0m \u001b[32m━━━━━━━━━━━━━━━━━━━━\u001b[0m\u001b[37m\u001b[0m \u001b[1m11s\u001b[0m 1ms/step\n",
      "\u001b[1m4782/4782\u001b[0m \u001b[32m━━━━━━━━━━━━━━━━━━━━\u001b[0m\u001b[37m\u001b[0m \u001b[1m6s\u001b[0m 1ms/step\n",
      "\u001b[1m9113/9113\u001b[0m \u001b[32m━━━━━━━━━━━━━━━━━━━━\u001b[0m\u001b[37m\u001b[0m \u001b[1m11s\u001b[0m 1ms/step\n",
      "\u001b[1m4782/4782\u001b[0m \u001b[32m━━━━━━━━━━━━━━━━━━━━\u001b[0m\u001b[37m\u001b[0m \u001b[1m6s\u001b[0m 1ms/step\n",
      "\u001b[1m9113/9113\u001b[0m \u001b[32m━━━━━━━━━━━━━━━━━━━━\u001b[0m\u001b[37m\u001b[0m \u001b[1m11s\u001b[0m 1ms/step\n",
      "\u001b[1m4782/4782\u001b[0m \u001b[32m━━━━━━━━━━━━━━━━━━━━\u001b[0m\u001b[37m\u001b[0m \u001b[1m6s\u001b[0m 1ms/step\n",
      "\u001b[1m9113/9113\u001b[0m \u001b[32m━━━━━━━━━━━━━━━━━━━━\u001b[0m\u001b[37m\u001b[0m \u001b[1m11s\u001b[0m 1ms/step\n",
      "\u001b[1m4782/4782\u001b[0m \u001b[32m━━━━━━━━━━━━━━━━━━━━\u001b[0m\u001b[37m\u001b[0m \u001b[1m5s\u001b[0m 1ms/step\n",
      "\u001b[1m9113/9113\u001b[0m \u001b[32m━━━━━━━━━━━━━━━━━━━━\u001b[0m\u001b[37m\u001b[0m \u001b[1m11s\u001b[0m 1ms/step\n",
      "\u001b[1m4782/4782\u001b[0m \u001b[32m━━━━━━━━━━━━━━━━━━━━\u001b[0m\u001b[37m\u001b[0m \u001b[1m6s\u001b[0m 1ms/step\n"
     ]
    }
   ],
   "source": [
    "predictions = [[models[j][i][\"model\"].predict(test[i]) for i in range(len(dataset_ids))]for j in range(len(models))]"
   ]
  },
  {
   "cell_type": "markdown",
   "metadata": {},
   "source": [
    "Function for calculating the loss between the real testing data, and the reconstruction from a given model"
   ]
  },
  {
   "cell_type": "code",
   "execution_count": 8,
   "metadata": {},
   "outputs": [],
   "source": [
    "def test_loss(dataset_id, iteration):\n",
    "    # Squared difference\n",
    "    return np.square(test[dataset_id] - predictions[iteration][dataset_id])"
   ]
  },
  {
   "cell_type": "markdown",
   "metadata": {},
   "source": [
    "Calculating all the losses"
   ]
  },
  {
   "cell_type": "code",
   "execution_count": 9,
   "metadata": {},
   "outputs": [],
   "source": [
    "loss = [[test_loss(i, j) for i in range(len(dataset_ids))] for j in range(number_models)]"
   ]
  },
  {
   "cell_type": "markdown",
   "metadata": {},
   "source": [
    "In this step, we are splitting every attacks from the losses. This done thanks to the testing labels indicating when the system did detect an attack on the system.\n",
    "\n",
    "We are also adding padding before and after the attack in order not to loose information.\n",
    "\n",
    "`attack (list of values of sensors on a timeline) = buffer + labels indicating attack + buffer (from loss calculus above)`"
   ]
  },
  {
   "cell_type": "code",
   "execution_count": 10,
   "metadata": {},
   "outputs": [],
   "source": [
    "# Generating the ids of the different attacks (cf. detailed pdf of the dataset)\n",
    "attack_ids = [\"A\" + j + str(i).zfill(2) for j in [\"1\", \"2\"] for i in range(1, 20)]\n",
    "\n",
    "buffered_attacks = {}\n",
    "\n",
    "start_buffer = 20\n",
    "end_buffer = 200\n",
    "\n",
    "for j in range(number_models):\n",
    "    attack_iterator = iter(attack_ids)\n",
    "    reading_attack = False\n",
    "    \n",
    "    for dataset_id, dataset in enumerate(labels):\n",
    "        for i, label_sample in enumerate(dataset):\n",
    "            if label_sample[0] == 1 and not reading_attack:\n",
    "                reading_attack = True\n",
    "                attack_start = i\n",
    "            elif label_sample[0] == 0 and reading_attack:\n",
    "                reading_attack = False\n",
    "                attack = next(attack_iterator)\n",
    "\n",
    "                if attack not in buffered_attacks.keys():\n",
    "                    buffered_attacks[attack] = [loss[j][dataset_id][attack_start - start_buffer:i + end_buffer]]\n",
    "                else:\n",
    "                    buffered_attacks[attack].append(loss[j][dataset_id][attack_start - start_buffer:i + end_buffer])"
   ]
  },
  {
   "cell_type": "markdown",
   "metadata": {},
   "source": [
    "This function is giving an indicative threshold for \"abnormal loss\" for a given vector on a timeline"
   ]
  },
  {
   "cell_type": "code",
   "execution_count": 11,
   "metadata": {},
   "outputs": [],
   "source": [
    "def threshold(vector):\n",
    "    return np.mean(vector) + np.std(vector)"
   ]
  },
  {
   "cell_type": "markdown",
   "metadata": {},
   "source": [
    "Function to transform each value of the vector to boolean of (above threshold or not)"
   ]
  },
  {
   "cell_type": "code",
   "execution_count": 12,
   "metadata": {},
   "outputs": [],
   "source": [
    "def crossing_threshold(vector):\n",
    "    return vector - threshold(vector) > 0"
   ]
  },
  {
   "cell_type": "markdown",
   "metadata": {},
   "source": [
    "This function is deciding if a sensor is abnormal on a given timeline (returning boolean), depending on two criteria :\n",
    "- The sensor shouldn't be abnormal before the attack (we can argue that the values of the sensor cannot really be trusted)\n",
    "- The sensor should reach a minimum of abnormal \"quantity\" during the attack"
   ]
  },
  {
   "cell_type": "code",
   "execution_count": 13,
   "metadata": {},
   "outputs": [],
   "source": [
    "# Input : Vector of boolean \"is above threshold for a given timestamp\"\n",
    "def is_sensor_affected(vector):\n",
    "    # Criteria 1 : Not already abnormal before the attack\n",
    "    # Criteria 2 : Reach abnormal level during the attack (or during the buffer time at the end)\n",
    "    min_percentage_abn_duration = 0.15\n",
    "    \n",
    "    return (np.sum(vector[:start_buffer]) == 0) and (np.sum(vector[start_buffer:]) / len(vector[start_buffer:]) >= min_percentage_abn_duration)"
   ]
  },
  {
   "cell_type": "markdown",
   "metadata": {},
   "source": [
    "Here, we are keeping the same shape of `(buffer + lenght of labels showing attack + buffer) x sensor_amount`, but changing the content.\n",
    "\n",
    "For a given attack :\n",
    "\n",
    "If a sensor is considered \"affected\" (cf. above function) by a given attack, each of its values will become booleans, depending on if they are \"abnormal\" or not.\n",
    "\n",
    "If the sensor is not considered affected, it is filled with zeros."
   ]
  },
  {
   "cell_type": "code",
   "execution_count": 14,
   "metadata": {},
   "outputs": [],
   "source": [
    "attacks_sensors = {}\n",
    "\n",
    "for i in range(number_models):\n",
    "    for attack_id, sensors_list in buffered_attacks.items():\n",
    "        crossing_sensors = np.apply_along_axis(crossing_threshold, 0, sensors_list[i])\n",
    "        affected_sensors = np.apply_along_axis(is_sensor_affected, 0, crossing_sensors)\n",
    "\n",
    "        if attack_id not in attacks_sensors.keys():\n",
    "            attacks_sensors[attack_id] = [np.empty(crossing_sensors.shape)]\n",
    "        else:\n",
    "            attacks_sensors[attack_id].append(np.empty(crossing_sensors.shape))\n",
    "        \n",
    "        for column_id in range(crossing_sensors.shape[1]):\n",
    "            if affected_sensors[column_id]:\n",
    "                attacks_sensors[attack_id][i][:, column_id] = crossing_sensors[:, column_id]\n",
    "            else:\n",
    "                # Filling the sensor values with zeros instead of removing it in order to keep the index of each sensor correct\n",
    "                attacks_sensors[attack_id][i][:, column_id] = np.zeros((crossing_sensors.shape[0],))"
   ]
  },
  {
   "cell_type": "markdown",
   "metadata": {},
   "source": [
    "This piece of code is filling with zeros the \"small peeks\" of abnormal timestamps. If they are not considered big enough, they are considered not meaningfull enough."
   ]
  },
  {
   "cell_type": "code",
   "execution_count": 15,
   "metadata": {},
   "outputs": [],
   "source": [
    "# Minimum size (in seconds) of an \"abnormal peek\" during an attack for it to be considered \"meaningfull\"\n",
    "min_peek_lenght = 10\n",
    "\n",
    "for attack_id, sensors_list in attacks_sensors.items():\n",
    "    for j in range(number_models):\n",
    "        for sensor_id, sensor in enumerate(sensors_list[j].T):\n",
    "            reading_peek = False\n",
    "            \n",
    "            for i, value in enumerate(sensor):\n",
    "                if value and not reading_peek:\n",
    "                    reading_peek = True\n",
    "                    start_peek = i\n",
    "                elif not value and reading_peek:\n",
    "                    reading_peek = False\n",
    "    \n",
    "                    # Replace small peeks with zeros\n",
    "                    if i - start_peek < min_peek_lenght:\n",
    "                        attacks_sensors[attack_id][j][start_peek:i, sensor_id].fill(0)\n",
    "    \n",
    "            if reading_peek and len(sensor) - start_peek < min_peek_lenght:\n",
    "                attacks_sensors[attack_id][j][start_peek:len(sensor), sensor_id].fill(0)"
   ]
  },
  {
   "cell_type": "markdown",
   "metadata": {},
   "source": [
    "Function giving correlation score between two sensors. The shift window is the amount of time (is seconds) we allow the sensors to use in order to shift the two signals. In other words, we give them X seconds of delay (in both directions) for them to produce the best possible correlation score (but this shift will not be kept later, it's just a small help for not being too harsh on the correlations)."
   ]
  },
  {
   "cell_type": "code",
   "execution_count": 16,
   "metadata": {},
   "outputs": [],
   "source": [
    "# Gap of time for taking into account \"delayed impacts\" between two sensors\n",
    "shift_window = 5\n",
    "\n",
    "# Function to determine if two sensors are influencing each other\n",
    "def correlation(sensor_1, sensor_2):\n",
    "    # Adding time padding\n",
    "    sensor_1 = np.append(np.zeros((shift_window)), sensor_1)\n",
    "    sensor_1 = np.append(sensor_1, np.zeros((shift_window)))\n",
    "\n",
    "    return np.correlate(sensor_1, sensor_2, mode=\"valid\")"
   ]
  },
  {
   "cell_type": "markdown",
   "metadata": {},
   "source": [
    "This code is calculating the correlation score between every possible couple of sensors. If it is not high enough, this couple of sensors for this given attack will not be taken into account.\n",
    "\n",
    "Next, we will select the first timestamp where both sensors are abnormal at the same time. \n",
    "\n",
    "Finally, we will look at the timestamp right before the \"first meeting timestamp\". If one sensor is abnormal and the other one not, we assume that this first sensor is \"affecting\" the second one. If they both start at the same time, we assume that they influence each-other.\n",
    "\n",
    "Reading : (1, 2) = sensor 1 is affecting sensor 2\n",
    "\n",
    "If both are affecting each-other, two relations (1, 2) and (2, 1) will be added to the list."
   ]
  },
  {
   "cell_type": "code",
   "execution_count": 17,
   "metadata": {},
   "outputs": [],
   "source": [
    "attack_chains = {}\n",
    "\n",
    "relationship_min_value = 20\n",
    "\n",
    "for attack_id, sensors_list in attacks_sensors.items():\n",
    "    attack_chains[attack_id] = []\n",
    "\n",
    "    for i, sensors in enumerate(sensors_list):\n",
    "        attack_chains[attack_id].append([])\n",
    "        \n",
    "        for sensor_1 in range(sensors.shape[1] - 1):\n",
    "            for sensor_2 in range(sensor_1 + 1, sensors.shape[1]):\n",
    "                # If the two sensors are closely correlated\n",
    "                if np.max(correlation(sensors[:, sensor_1], sensors[:, sensor_2])) >= relationship_min_value:\n",
    "                    first_meeting_timestamp = None\n",
    "                    # First timestamp where both sensors are abnormal\n",
    "                    for timestamp in range(sensors.shape[0]):\n",
    "                        if sensors[timestamp, sensor_1] and sensors[timestamp, sensor_2]:\n",
    "                            first_meeting_timestamp = timestamp\n",
    "                            break\n",
    "    \n",
    "                    # NOTE : The case were the two sensors are correlated (with a shift) but in real life never abnormal\n",
    "                    # at the same time never came by, so it is not taken into account here\n",
    "                    \n",
    "                    # If there is a meeting timestamp\n",
    "                    if first_meeting_timestamp != None:\n",
    "                        # If the two sensors started being abnormal at the same time\n",
    "                        if first_meeting_timestamp == 0 or (not sensors[first_meeting_timestamp-1, sensor_1] and not sensors[first_meeting_timestamp-1, sensor_2]):\n",
    "                            # Then both sensors are influencing each other\n",
    "                            attack_chains[attack_id][i].append((sensor_1, sensor_2))\n",
    "                            attack_chains[attack_id][i].append((sensor_2, sensor_1))\n",
    "    \n",
    "                        # If the first sensor was abnormal right before first meeting point\n",
    "                        elif sensors[first_meeting_timestamp-1, sensor_1]:\n",
    "                            # Then the first sensor is influencing the second one\n",
    "                            attack_chains[attack_id][i].append((sensor_1, sensor_2))\n",
    "\n",
    "    \n",
    "                        # If the second sensor was abnormal right before first meeting point\n",
    "                        elif sensors[first_meeting_timestamp-1, sensor_2]:\n",
    "                            # Then the second sensor is influencing the first one\n",
    "                            attack_chains[attack_id][i].append((sensor_2, sensor_1))"
   ]
  },
  {
   "cell_type": "markdown",
   "metadata": {},
   "source": [
    "This is where we finally use the multiple models : because one model might be incorrect in some edge cases, we cannot fully trust it in order to get the relationships we need.\n",
    "\n",
    "In order to fix this situation, we chose earlier to train multiple identical models, in order to see the reccurent behaviour accross the models, and what decisions seems to be edge-cases.\n",
    "\n",
    "Here, we are checking how many times a relationship between two sensors is detected by the different models.\n",
    "\n",
    "In this case, if less than half of the models detected it, is it considered irrelevant."
   ]
  },
  {
   "cell_type": "code",
   "execution_count": 19,
   "metadata": {},
   "outputs": [],
   "source": [
    "kept_relations_amount = 0\n",
    "unkept_relations_amount = 0\n",
    "\n",
    "seen = {}\n",
    "kept_relations = {}\n",
    "\n",
    "for attack_id, chains in attack_chains.items():\n",
    "    seen[attack_id] = []\n",
    "    kept_relations[attack_id] = []\n",
    "    for i, couples in enumerate(chains):\n",
    "        for couple in couples:\n",
    "            if couple not in seen[attack_id]:\n",
    "                occurences = 1\n",
    "\n",
    "                for j, other_chain in enumerate(chains):\n",
    "                    if i != j:\n",
    "                        if couple in other_chain:\n",
    "                            occurences += 1\n",
    "                            \n",
    "                if occurences >= number_models * 0.5:\n",
    "                    kept_relations_amount += 1\n",
    "                    kept_relations[attack_id].append(couple)\n",
    "                else:\n",
    "                    unkept_relations_amount += 1\n",
    "                    \n",
    "                seen[attack_id].append(couple)"
   ]
  },
  {
   "cell_type": "code",
   "execution_count": 26,
   "metadata": {},
   "outputs": [
    {
     "name": "stdout",
     "output_type": "stream",
     "text": [
      "Relations appearing accross half or more models : 627\n",
      "Relations not appearing enough accross multiple models : 5981\n",
      "A101 : [(23, 1), (24, 1), (14, 12), (23, 12), (24, 12), (15, 14), (14, 23), (14, 24), (14, 27), (14, 57), (15, 23), (15, 24), (15, 27), (15, 57), (23, 24), (27, 23), (57, 23), (27, 24), (57, 24), (27, 57), (52, 54)]\n",
      "A102 : [(23, 1), (24, 1), (14, 20), (14, 23), (14, 24), (20, 21), (20, 22), (20, 27), (20, 57), (21, 22), (21, 27), (23, 22), (24, 22), (57, 22), (23, 24), (23, 57), (24, 57), (23, 2), (24, 2), (29, 7), (14, 22), (14, 52), (20, 24), (20, 52), (21, 57), (23, 52), (24, 52)]\n",
      "A103 : [(12, 1), (13, 1), (15, 1), (29, 12), (58, 12), (58, 13), (14, 15), (14, 20), (14, 21), (14, 23), (14, 24), (14, 27), (14, 57), (20, 15), (15, 21), (15, 57), (20, 21), (20, 23), (20, 24), (20, 27), (20, 57), (21, 23), (21, 24), (21, 27), (21, 57), (27, 23), (57, 23), (27, 24), (57, 24), (1, 21), (1, 27), (15, 23), (15, 24), (15, 27), (23, 24), (27, 57)]\n",
      "A104 : [(3, 13), (52, 54), (54, 55), (54, 1)]\n",
      "A105 : [(12, 13), (22, 12), (22, 13), (20, 15), (18, 19), (23, 24), (12, 15), (43, 12), (13, 15), (43, 13)]\n",
      "A106 : [(13, 12), (27, 12), (57, 12), (43, 1), (15, 12), (43, 12), (47, 12), (47, 15), (15, 57), (24, 23), (47, 43), (47, 57)]\n",
      "A107 : [(3, 7), (3, 22), (3, 26), (3, 44), (3, 50), (3, 52), (3, 54), (3, 55), (6, 5), (5, 12), (16, 5), (17, 5), (5, 22), (5, 26), (5, 36), (5, 44), (5, 48), (5, 49), (5, 50), (5, 52), (5, 54), (5, 55), (16, 6), (6, 17), (6, 22), (6, 26), (6, 44), (6, 49), (6, 50), (6, 52), (6, 54), (7, 44), (7, 50), (12, 22), (26, 12), (12, 30), (36, 12), (44, 12), (12, 47), (48, 12), (50, 12), (15, 23), (15, 24), (16, 17), (16, 22), (16, 26), (16, 36), (16, 44), (16, 49), (16, 50), (16, 52), (16, 54), (16, 55), (17, 22), (17, 26), (17, 44), (17, 49), (17, 50), (17, 52), (17, 54), (26, 22), (36, 22), (44, 22), (48, 22), (50, 22), (52, 22), (54, 22), (22, 55), (23, 24), (36, 26), (26, 44), (48, 26), (26, 49), (26, 50), (54, 26), (50, 30), (44, 36), (36, 48), (50, 36), (54, 36), (44, 47), (48, 44), (49, 44), (44, 50), (52, 44), (54, 44), (50, 47), (48, 50), (54, 48), (49, 50), (52, 49), (54, 49), (52, 50), (54, 50), (54, 52), (5, 1), (8, 1), (9, 1), (16, 1), (1, 21), (22, 1), (26, 1), (1, 36), (48, 1), (1, 50), (54, 1), (8, 5), (9, 5), (8, 9), (9, 8), (8, 12), (8, 13), (8, 16), (8, 21), (8, 22), (8, 26), (8, 36), (8, 44), (8, 48), (8, 50), (8, 52), (8, 53), (8, 54), (9, 12), (9, 13), (9, 16), (9, 21), (9, 22), (9, 26), (9, 36), (9, 44), (9, 48), (9, 50), (9, 52), (9, 53), (9, 54), (12, 13), (21, 12), (21, 13), (13, 22), (26, 13), (36, 13), (48, 13), (21, 22), (26, 21), (36, 21), (48, 21), (54, 21), (53, 36), (55, 1), (8, 55), (9, 55), (26, 55), (54, 55)]\n",
      "A108 : []\n",
      "A109 : []\n",
      "A110 : []\n",
      "A111 : [(43, 47), (43, 49)]\n",
      "A112 : [(44, 12)]\n",
      "A113 : [(6, 16), (49, 44), (5, 16), (36, 5), (36, 16)]\n",
      "A114 : []\n",
      "A115 : [(43, 36), (36, 1)]\n",
      "A116 : []\n",
      "A117 : [(14, 15), (20, 14), (14, 21), (14, 47), (14, 57), (20, 21), (20, 27), (20, 47), (20, 57), (27, 21), (21, 47), (21, 57), (27, 57)]\n",
      "A118 : [(36, 1), (36, 18), (36, 22), (36, 47), (3, 1)]\n",
      "A119 : [(23, 24)]\n",
      "A201 : [(23, 2), (24, 2), (27, 2), (57, 2), (14, 5), (23, 5), (24, 5), (27, 5), (14, 12), (23, 12), (24, 12), (27, 12), (57, 12), (14, 13), (23, 13), (24, 13), (13, 55), (23, 14), (24, 14), (27, 14), (14, 55), (57, 14), (23, 24), (23, 27), (23, 57), (24, 27), (55, 24), (24, 57), (27, 57), (13, 12), (55, 12), (13, 22), (27, 13), (57, 13), (23, 22), (24, 22), (27, 22), (57, 22)]\n",
      "A202 : [(12, 22), (27, 12), (57, 12), (20, 21), (27, 22), (57, 22), (27, 57), (13, 12), (20, 12), (20, 13), (13, 22), (57, 13), (20, 14), (21, 14), (14, 22), (27, 14), (14, 57), (20, 22), (20, 27), (20, 57), (21, 22), (21, 27), (21, 57)]\n",
      "A203 : [(43, 49)]\n",
      "A204 : [(12, 1), (52, 1), (12, 2), (13, 2), (22, 2), (2, 52), (3, 7), (3, 12), (3, 13), (3, 22), (3, 52), (7, 12), (7, 13), (7, 55), (9, 12), (9, 22), (12, 13), (12, 22), (12, 52), (12, 56), (15, 13), (13, 22), (13, 52), (13, 56), (22, 56), (0, 13), (12, 21), (21, 13), (22, 21), (56, 2)]\n",
      "A205 : [(13, 1), (13, 2), (3, 5), (3, 12), (3, 13), (12, 13), (3, 27), (3, 57), (12, 27), (12, 57), (13, 27), (13, 57), (27, 57), (3, 1)]\n",
      "A206 : []\n",
      "A207 : [(1, 18), (1, 19), (3, 18), (3, 19), (18, 19), (19, 18), (27, 18), (57, 18), (27, 19), (57, 19), (57, 27)]\n",
      "A208 : [(12, 3), (3, 13), (13, 12), (12, 47), (49, 12), (3, 2), (47, 2), (8, 12), (8, 13), (16, 8), (8, 17), (8, 58), (16, 9), (9, 58), (16, 12), (17, 12), (16, 13), (13, 58), (16, 17), (16, 58)]\n",
      "A209 : [(1, 5)]\n",
      "A210 : [(3, 19), (12, 13), (12, 19), (20, 12), (21, 12), (27, 12), (57, 12), (13, 19), (20, 13), (21, 13), (27, 13), (50, 13), (57, 13), (20, 21), (27, 20), (47, 20), (20, 50), (57, 20), (27, 21), (47, 21), (21, 50), (57, 21), (27, 50), (0, 12), (0, 13), (0, 19), (0, 20), (0, 21), (5, 19), (7, 19), (12, 18), (13, 18), (18, 19), (20, 18), (21, 18), (29, 58), (4, 19)]\n",
      "A211 : [(14, 20), (14, 21), (14, 27), (14, 57), (20, 57), (27, 22), (57, 22), (27, 57)]\n",
      "A212 : [(4, 2), (2, 8), (13, 2), (14, 2), (2, 15), (20, 2), (21, 2), (2, 22), (54, 2), (2, 55), (4, 12), (4, 13), (14, 4), (20, 4), (4, 21), (21, 4), (4, 22), (44, 4), (54, 4), (4, 55), (9, 8), (13, 12), (14, 12), (20, 12), (21, 12), (12, 22), (12, 54), (55, 12), (14, 13), (20, 13), (21, 13), (13, 22), (13, 29), (20, 14), (14, 21), (14, 22), (14, 29), (44, 14), (14, 47), (14, 54), (14, 55), (22, 15), (20, 21), (20, 22), (20, 29), (44, 20), (20, 47), (20, 54), (20, 55), (21, 22), (21, 29), (44, 21), (21, 47), (54, 21), (21, 55), (54, 22), (43, 44), (44, 43), (44, 54), (55, 47), (54, 55), (12, 2), (2, 18), (22, 18), (23, 24)]\n",
      "A213 : [(0, 2), (0, 18), (0, 19), (14, 2), (18, 2), (29, 2), (44, 3), (14, 18), (14, 19), (14, 23), (18, 19), (18, 29), (4, 2), (2, 19), (14, 4), (4, 18), (4, 19), (4, 29)]\n",
      "A214 : [(7, 36), (36, 43)]\n",
      "A215 : [(8, 9), (9, 8), (8, 16), (9, 16), (9, 49), (16, 17), (36, 17), (8, 5), (9, 5), (36, 5), (36, 7), (36, 8), (36, 9), (36, 16)]\n",
      "A216 : []\n",
      "A217 : [(4, 3), (4, 47), (54, 4), (55, 4), (8, 9), (9, 8), (20, 21), (47, 50), (54, 47), (55, 47), (54, 55), (15, 3), (15, 4), (4, 19), (15, 19), (49, 44), (44, 50), (50, 44), (49, 50)]\n",
      "A218 : [(2, 12), (14, 2), (21, 2), (20, 14), (14, 21), (14, 22), (14, 57), (22, 15), (20, 21), (21, 22), (21, 57), (57, 22), (22, 3), (14, 12), (21, 12), (20, 22)]\n",
      "A219 : [(21, 2), (22, 2), (21, 13), (14, 21), (14, 22), (14, 49), (21, 22), (23, 24), (24, 23), (54, 55), (20, 2), (20, 14), (14, 54), (20, 21), (20, 22), (21, 54), (54, 22)]\n"
     ]
    }
   ],
   "source": [
    "print(\"Relations appearing accross half or more models :\", kept_relations_amount)\n",
    "print(\"Relations not appearing enough accross multiple models :\", unkept_relations_amount)\n",
    "print(\"\\n\".join([attack_id + \" : \" + str(couples) for attack_id, couples in kept_relations.items()]))"
   ]
  }
 ],
 "metadata": {
  "kernelspec": {
   "display_name": "Python 3 (ipykernel)",
   "language": "python",
   "name": "python3"
  },
  "language_info": {
   "codemirror_mode": {
    "name": "ipython",
    "version": 3
   },
   "file_extension": ".py",
   "mimetype": "text/x-python",
   "name": "python",
   "nbconvert_exporter": "python",
   "pygments_lexer": "ipython3",
   "version": "3.11.4"
  }
 },
 "nbformat": 4,
 "nbformat_minor": 4
}
